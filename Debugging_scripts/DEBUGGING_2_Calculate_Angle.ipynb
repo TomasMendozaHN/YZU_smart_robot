{
 "cells": [
  {
   "cell_type": "markdown",
   "id": "theoretical-verse",
   "metadata": {},
   "source": [
    "# Define Variables"
   ]
  },
  {
   "cell_type": "code",
   "execution_count": 1,
   "id": "central-postage",
   "metadata": {},
   "outputs": [],
   "source": [
    "# Define the FOV of the camera\n",
    "FOV = 160  # CSI Camera = 160 degrees\n",
    "\n",
    "# KeyPoints TRT Model Path\n",
    "OPTIMIZED_MODEL = 'resnet18_baseline_att_224x224_A_epoch_249_trt.pth'"
   ]
  },
  {
   "cell_type": "markdown",
   "id": "ready-shell",
   "metadata": {},
   "source": [
    "# Reset the camera"
   ]
  },
  {
   "cell_type": "code",
   "execution_count": 2,
   "id": "pharmaceutical-equity",
   "metadata": {},
   "outputs": [
    {
     "data": {
      "text/plain": [
       "0"
      ]
     },
     "execution_count": 2,
     "metadata": {},
     "output_type": "execute_result"
    }
   ],
   "source": [
    "import getpass\n",
    "import os\n",
    "\n",
    "# Reset Camera\n",
    "password = 'jetbot'\n",
    "command = \"sudo -S systemctl restart nvargus-daemon\" #can be any command but don't forget -S as it enables input from stdin\n",
    "os.system('echo %s | %s' % (password, command))"
   ]
  },
  {
   "cell_type": "markdown",
   "id": "cultural-farmer",
   "metadata": {},
   "source": [
    "# Load pre-Trained keyPointsRCNN"
   ]
  },
  {
   "cell_type": "code",
   "execution_count": 3,
   "id": "compatible-cattle",
   "metadata": {},
   "outputs": [
    {
     "name": "stderr",
     "output_type": "stream",
     "text": [
      "Matplotlib created a temporary config/cache directory at /tmp/matplotlib-vqmlc34i because the default path (/home/jetbot/.cache/matplotlib) is not a writable directory; it is highly recommended to set the MPLCONFIGDIR environment variable to a writable directory, in particular to speed up the import of Matplotlib and to better support multiprocessing.\n"
     ]
    },
    {
     "name": "stdout",
     "output_type": "stream",
     "text": [
      "KeyPoints RCNN Successfully Loaded. \n"
     ]
    }
   ],
   "source": [
    "from threading import Thread\n",
    "from torch2trt import TRTModule\n",
    "import trt_pose.models\n",
    "import torch2trt\n",
    "import os\n",
    "import json\n",
    "import trt_pose.coco\n",
    "import torch\n",
    "import time\n",
    "\n",
    "# Topology\n",
    "with open('human_pose.json', 'r') as f:\n",
    "    human_pose = json.load(f)\n",
    "topology = trt_pose.coco.coco_category_to_topology(human_pose)\n",
    "\n",
    "# load Model\n",
    "WIDTH = 224\n",
    "HEIGHT = 224\n",
    "data = torch.zeros((1, 3, HEIGHT, WIDTH)).cuda()\n",
    "model_trt = TRTModule()\n",
    "model_trt.load_state_dict(torch.load(OPTIMIZED_MODEL))\n",
    "print(\"KeyPoints RCNN Successfully Loaded. \")"
   ]
  },
  {
   "cell_type": "markdown",
   "id": "south-japanese",
   "metadata": {},
   "source": [
    "# Prepare the Camera"
   ]
  },
  {
   "cell_type": "code",
   "execution_count": 4,
   "id": "documented-transsexual",
   "metadata": {},
   "outputs": [],
   "source": [
    "import cv2\n",
    "import torchvision.transforms as transforms\n",
    "import PIL.Image\n",
    "import time\n",
    "\n",
    "mean = torch.Tensor([0.485, 0.456, 0.406]).cuda()\n",
    "std = torch.Tensor([0.229, 0.224, 0.225]).cuda()\n",
    "device = torch.device('cuda')\n",
    "\n",
    "def preprocess(image):\n",
    "    global device\n",
    "    device = torch.device('cuda')\n",
    "    image = cv2.cvtColor(image, cv2.COLOR_BGR2RGB)\n",
    "    image = PIL.Image.fromarray(image)\n",
    "    image = transforms.functional.to_tensor(image).to(device)\n",
    "    image.sub_(mean[:, None, None]).div_(std[:, None, None])\n",
    "    return image[None, ...]"
   ]
  },
  {
   "cell_type": "code",
   "execution_count": 5,
   "id": "stopped-deposit",
   "metadata": {},
   "outputs": [],
   "source": [
    "from jetcam.csi_camera import CSICamera\n",
    "\n",
    "camera = CSICamera(width=WIDTH, height=HEIGHT, capture_fps=15)\n",
    "camera.running = True"
   ]
  },
  {
   "cell_type": "markdown",
   "id": "equal-guarantee",
   "metadata": {},
   "source": [
    "# Prepare KeyPoints drawing on Frames"
   ]
  },
  {
   "cell_type": "code",
   "execution_count": 6,
   "id": "centered-swedish",
   "metadata": {},
   "outputs": [],
   "source": [
    "from trt_pose.draw_objects import DrawObjects\n",
    "from trt_pose.parse_objects import ParseObjects\n",
    "\n",
    "parse_objects = ParseObjects(topology)\n",
    "draw_objects = DrawObjects(topology)"
   ]
  },
  {
   "cell_type": "markdown",
   "id": "conceptual-ensemble",
   "metadata": {},
   "source": [
    "# Function to obtain keypoints (for drawing & calculating angle)"
   ]
  },
  {
   "cell_type": "code",
   "execution_count": 7,
   "id": "quality-copying",
   "metadata": {},
   "outputs": [],
   "source": [
    "def get_keypoints(image, human_pose, topology, object_counts, objects, normalized_peaks):\n",
    "    \"\"\"Get the keypoints from torch data and put into a dictionary where keys are keypoints\n",
    "    and values the x,y coordinates. The coordinates will be interpreted on the image given.\n",
    "\n",
    "    Args:\n",
    "        image: cv2 image\n",
    "        human_pose: json formatted file about the keypoints\n",
    "\n",
    "    Returns:\n",
    "        dictionary: dictionary where keys are keypoints and values are the x,y coordinates\n",
    "    \"\"\"\n",
    "    height = image.shape[0]\n",
    "    width = image.shape[1]\n",
    "    keypoints = {}\n",
    "    K = topology.shape[0]\n",
    "    count = int(object_counts[0])\n",
    "\n",
    "    for i in range(count):\n",
    "        obj = objects[0][i]\n",
    "        C = obj.shape[0]\n",
    "        for j in range(C):\n",
    "            k = int(obj[j])\n",
    "            if k >= 0:\n",
    "                peak = normalized_peaks[0][j][k]\n",
    "                x = round(float(peak[1]) * width)\n",
    "                y = round(float(peak[0]) * height)\n",
    "                keypoints[human_pose[\"keypoints\"][j]] = (x, y)\n",
    "\n",
    "    return keypoints"
   ]
  },
  {
   "cell_type": "markdown",
   "id": "sorted-exercise",
   "metadata": {},
   "source": [
    "# Function to Calculate Angle"
   ]
  },
  {
   "cell_type": "code",
   "execution_count": 8,
   "id": "expanded-rally",
   "metadata": {},
   "outputs": [],
   "source": [
    "def calculate_angle(WIDTH, keypoints, FOV=160):\n",
    "    '''\n",
    "    Arguments:\n",
    "        + Image width\n",
    "        + Dictionary of keypoints\n",
    "        + Field of vision of camera (in degrees). Default = 160 if using CSI camera with fish-eye lens\n",
    "        \n",
    "    Returns:\n",
    "        + Angle at which the object is located from respect to the center    \n",
    "    '''\n",
    "\n",
    "    keys = keypoints.values()\n",
    "    \n",
    "    # if at least 2 points are detected\n",
    "    if len(keys) > 1:  \n",
    "        object_location = int(sum([x for x,y in keys])/len(keys))\n",
    "        angle = int(-FOV*(WIDTH/2 - object_location)/WIDTH)\n",
    "        return [angle], keypoints\n",
    "    \n",
    "    \n",
    "    else:\n",
    "        return [-1], keypoints"
   ]
  },
  {
   "cell_type": "markdown",
   "id": "soviet-laundry",
   "metadata": {},
   "source": [
    "# Thread to and print angle"
   ]
  },
  {
   "cell_type": "code",
   "execution_count": 9,
   "id": "swiss-healthcare",
   "metadata": {},
   "outputs": [],
   "source": [
    "from IPython.display import clear_output as cls\n",
    "\n",
    "def print_angle_thread():\n",
    "    \n",
    "    global print_angle_running\n",
    "    print_angle_running = True\n",
    "    \n",
    "    while True:\n",
    "        cls(wait=True)\n",
    "        keypoints, image, counts, objects, peaks = execute2({'new': camera.value})\n",
    "        angle, _ = calculate_angle(WIDTH, keypoints, FOV)\n",
    "        print(\"Angle: \", angle)"
   ]
  },
  {
   "cell_type": "markdown",
   "id": "following-membership",
   "metadata": {},
   "source": [
    "# Define Execute (For Visualization)"
   ]
  },
  {
   "cell_type": "code",
   "execution_count": 10,
   "id": "female-service",
   "metadata": {},
   "outputs": [],
   "source": [
    "def execute(change):\n",
    "    \n",
    "    global image\n",
    "    \n",
    "    image = change['new']\n",
    "    data = preprocess(image)\n",
    "    cmap, paf = model_trt(data)\n",
    "    cmap, paf = cmap.detach().cpu(), paf.detach().cpu()\n",
    "    counts, objects, peaks = parse_objects(cmap, paf)#, cmap_threshold=0.15, link_threshold=0.15)\n",
    "    keypoints = get_keypoints(image, human_pose, topology, counts, objects, peaks)\n",
    "    draw_objects(image, counts, objects, peaks)\n",
    "    image_w.value = bgr8_to_jpeg(image[:, ::-1, :])\n",
    "    \n",
    "    if print_angle_running == False:\n",
    "        thread2 = Thread(target = print_angle_thread)\n",
    "        thread2.start()"
   ]
  },
  {
   "cell_type": "markdown",
   "id": "collect-shopping",
   "metadata": {},
   "source": [
    "# Define Execute (Used for angle calculation)"
   ]
  },
  {
   "cell_type": "code",
   "execution_count": 11,
   "id": "played-court",
   "metadata": {},
   "outputs": [],
   "source": [
    "def execute2(change, visualize=True):\n",
    "    image = change['new']\n",
    "    data = preprocess(image)\n",
    "    cmap, paf = model_trt(data)\n",
    "    cmap, paf = cmap.detach().cpu(), paf.detach().cpu()\n",
    "    counts, objects, peaks = parse_objects(cmap, paf)#, cmap_threshold=0.15, link_threshold=0.15)\n",
    "    keypoints = get_keypoints(image, human_pose, topology, counts, objects, peaks)\n",
    "\n",
    "    return keypoints, image, counts, objects, peaks"
   ]
  },
  {
   "cell_type": "markdown",
   "id": "chubby-creation",
   "metadata": {},
   "source": [
    "###### 2 Different execute functions are defined because if only one is used and the variables are made global to be shared by both threads, the delay goes from 2 seconds to 20~30 seconds "
   ]
  },
  {
   "cell_type": "code",
   "execution_count": 12,
   "id": "infrared-cosmetic",
   "metadata": {},
   "outputs": [],
   "source": [
    "print_angle_running = False  # Thread Lock (prevents from crashes)"
   ]
  },
  {
   "cell_type": "markdown",
   "id": "recorded-integral",
   "metadata": {},
   "source": [
    "# Run Everything"
   ]
  },
  {
   "cell_type": "code",
   "execution_count": 13,
   "id": "maritime-chuck",
   "metadata": {},
   "outputs": [
    {
     "name": "stdout",
     "output_type": "stream",
     "text": [
      "Angle:  [-22]\n"
     ]
    }
   ],
   "source": [
    "import ipywidgets\n",
    "from IPython.display import display\n",
    "from jetcam.utils import bgr8_to_jpeg\n",
    "\n",
    "image_w = ipywidgets.Image(format='jpeg', width=WIDTH, height=HEIGHT)\n",
    "display(image_w)"
   ]
  },
  {
   "cell_type": "code",
   "execution_count": null,
   "id": "arranged-screw",
   "metadata": {},
   "outputs": [],
   "source": [
    "execute({'new': camera.value})\n",
    "camera.observe(execute, names='value')"
   ]
  }
 ],
 "metadata": {
  "kernelspec": {
   "display_name": "Python 3",
   "language": "python",
   "name": "python3"
  },
  "language_info": {
   "codemirror_mode": {
    "name": "ipython",
    "version": 3
   },
   "file_extension": ".py",
   "mimetype": "text/x-python",
   "name": "python",
   "nbconvert_exporter": "python",
   "pygments_lexer": "ipython3",
   "version": "3.6.9"
  }
 },
 "nbformat": 4,
 "nbformat_minor": 5
}
