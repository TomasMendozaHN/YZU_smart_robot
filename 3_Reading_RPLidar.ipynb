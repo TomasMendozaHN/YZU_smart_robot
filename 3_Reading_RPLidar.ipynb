{
 "cells": [
  {
   "cell_type": "code",
   "execution_count": 1,
   "metadata": {},
   "outputs": [
    {
     "data": {
      "text/plain": [
       "0"
      ]
     },
     "execution_count": 1,
     "metadata": {},
     "output_type": "execute_result"
    }
   ],
   "source": [
    "import getpass\n",
    "import os\n",
    "\n",
    "password = 'jetbot'\n",
    "command = \"sudo -S chmod 666 /dev/ttyUSB0\" #can be any command but don't forget -S as it enables input from stdin\n",
    "os.system('echo %s | %s' % (password, command))"
   ]
  },
  {
   "cell_type": "code",
   "execution_count": 2,
   "metadata": {},
   "outputs": [],
   "source": [
    "from rplidar import RPLidar"
   ]
  },
  {
   "cell_type": "code",
   "execution_count": 3,
   "metadata": {},
   "outputs": [],
   "source": [
    "# Establish connection with Lidar using Library\n",
    "lidar = RPLidar('/dev/ttyUSB0')  # Choose usb port where RPLidar is located in"
   ]
  },
  {
   "cell_type": "code",
   "execution_count": 4,
   "metadata": {},
   "outputs": [
    {
     "name": "stdout",
     "output_type": "stream",
     "text": [
      "[180, 200, 220, 240, 260, 280, 300, 320, 340, 0, 20, 40, 60, 80, 100, 120, 140, 160]\n"
     ]
    }
   ],
   "source": [
    "# Define what angles you want to measure\n",
    "angles1 = [x for x in range (180,360,20)]\n",
    "angles2 = [x for x in range (0,180,20)]\n",
    "\n",
    "angles = angles1+angles2\n",
    "print(angles)"
   ]
  },
  {
   "cell_type": "code",
   "execution_count": 5,
   "metadata": {},
   "outputs": [],
   "source": [
    "# Initialize all sensor readings to 0\n",
    "previous_readings = {x:0 for x in angles} "
   ]
  },
  {
   "cell_type": "code",
   "execution_count": 6,
   "metadata": {},
   "outputs": [],
   "source": [
    "def read_lidar_wrapper(angles,previous_readings):\n",
    "    \n",
    "    ''' Wrapper function for the RPLidar library. \n",
    "    \n",
    "        This function takes as inputs:\n",
    "            -> the angles to measure as a list\n",
    "            -> the RPLidar object (instantiated using RPLidar library)\n",
    "            -> the previous_readings dictionary \n",
    "            \n",
    "        This function returns:\n",
    "            -> the updated previous_readings dictionary with new measurements\n",
    "\n",
    "        '''\n",
    "       \n",
    "    lidar = RPLidar('/dev/ttyUSB0')  # Establish connection with Lidar\n",
    "    for i, scan in enumerate(lidar.iter_scans()):  # Scan the sensor infinitely\n",
    "        if i>0:\n",
    "            readings = ({int(x[1]): int(x[2]) for x in list(scan) if int(x[1]) in angles})\n",
    "            break  # Stop the scan to exit infinite loop\n",
    "    \n",
    "    \n",
    "    #  Sometimes the sensor doesn't read all angles (unfortunately that's how it works)\n",
    "    #  so we must add those missing values as the previous sensor readings \n",
    "    #  to avoid having a dictionary with missing values\n",
    "    for key in previous_readings.keys():\n",
    "        try:\n",
    "            if readings[key]: \n",
    "                previous_readings[key]=readings[key]\n",
    "        except:\n",
    "            continue\n",
    "\n",
    "    lidar.stop()        # Stop the sensor to be able to read it again\n",
    "    lidar.disconnect()  # Stop the sensor to be able to read it again\n",
    "    return previous_readings\n"
   ]
  },
  {
   "cell_type": "code",
   "execution_count": 8,
   "metadata": {},
   "outputs": [
    {
     "name": "stdout",
     "output_type": "stream",
     "text": [
      "{180: 0, 200: 0, 220: 820, 240: 907, 260: 0, 280: 2030, 300: 1198, 320: 1247, 340: 1113, 0: 0, 20: 1285, 40: 867, 60: 982, 80: 0, 100: 0, 120: 0, 140: 0, 160: 0},{180: 5472, 200: 0, 220: 852, 240: 6019, 260: 5874, 280: 2080, 300: 1183, 320: 1247, 340: 1113, 0: 0, 20: 1295, 40: 867, 60: 983, 80: 0, 100: 0, 120: 0, 140: 0, 160: 0},{180: 5503, 200: 0, 220: 860, 240: 819, 260: 5846, 280: 2070, 300: 1183, 320: 1253, 340: 1113, 0: 1132, 20: 1277, 40: 863, 60: 973, 80: 228, 100: 0, 120: 0, 140: 0, 160: 0},{180: 5455, 200: 0, 220: 847, 240: 814, 260: 5868, 280: 2020, 300: 1192, 320: 1244, 340: 1113, 0: 1132, 20: 1277, 40: 859, 60: 964, 80: 227, 100: 0, 120: 0, 140: 0, 160: 0},{180: 5455, 200: 0, 220: 802, 240: 5962, 260: 5868, 280: 2034, 300: 1199, 320: 1248, 340: 1113, 0: 1132, 20: 1278, 40: 863, 60: 975, 80: 229, 100: 0, 120: 0, 140: 0, 160: 0},{180: 5472, 200: 0, 220: 802, 240: 5962, 260: 5858, 280: 2027, 300: 1196, 320: 1247, 340: 1114, 0: 1132, 20: 1278, 40: 857, 60: 975, 80: 229, 100: 0, 120: 0, 140: 0, 160: 0},{180: 5458, 200: 0, 220: 802, 240: 5962, 260: 5887, 280: 2023, 300: 1196, 320: 1247, 340: 1114, 0: 1132, 20: 1278, 40: 859, 60: 965, 80: 229, 100: 0, 120: 0, 140: 0, 160: 0},{180: 5458, 200: 0, 220: 771, 240: 734, 260: 5843, 280: 2072, 300: 1196, 320: 1253, 340: 1114, 0: 1132, 20: 1281, 40: 865, 60: 978, 80: 229, 100: 0, 120: 0, 140: 0, 160: 0},{180: 548, 200: 0, 220: 771, 240: 734, 260: 5884, 280: 2029, 300: 1198, 320: 1247, 340: 1114, 0: 1132, 20: 1281, 40: 859, 60: 969, 80: 227, 100: 0, 120: 0, 140: 0, 160: 0},{180: 658, 200: 0, 220: 648, 240: 5975, 260: 5884, 280: 2043, 300: 1198, 320: 1249, 340: 1114, 0: 1132, 20: 1283, 40: 865, 60: 982, 80: 228, 100: 0, 120: 0, 140: 0, 160: 0},{180: 602, 200: 0, 220: 678, 240: 5999, 260: 5865, 280: 2084, 300: 1184, 320: 1241, 340: 1114, 0: 1132, 20: 1278, 40: 864, 60: 977, 80: 228, 100: 0, 120: 0, 140: 0, 160: 467},{180: 5486, 200: 676, 220: 671, 240: 6029, 260: 5884, 280: 2081, 300: 1184, 320: 1241, 340: 1114, 0: 1132, 20: 1284, 40: 867, 60: 977, 80: 227, 100: 0, 120: 0, 140: 0, 160: 467},{180: 5508, 200: 676, 220: 671, 240: 6029, 260: 5868, 280: 2033, 300: 1184, 320: 1252, 340: 1114, 0: 1132, 20: 1285, 40: 867, 60: 977, 80: 227, 100: 0, 120: 0, 140: 0, 160: 467},{180: 5461, 200: 676, 220: 671, 240: 6015, 260: 5874, 280: 2025, 300: 1201, 320: 1248, 340: 1114, 0: 1132, 20: 1285, 40: 860, 60: 971, 80: 227, 100: 0, 120: 0, 140: 0, 160: 467},{180: 5506, 200: 676, 220: 862, 240: 6015, 260: 5878, 280: 2082, 300: 1184, 320: 1248, 340: 1114, 0: 1132, 20: 1285, 40: 860, 60: 974, 80: 227, 100: 0, 120: 0, 140: 0, 160: 467},{180: 5506, 200: 676, 220: 862, 240: 902, 260: 5843, 280: 2082, 300: 1192, 320: 1243, 340: 1114, 0: 1132, 20: 1286, 40: 860, 60: 986, 80: 227, 100: 0, 120: 0, 140: 0, 160: 467},{180: 5478, 200: 676, 220: 862, 240: 898, 260: 5858, 280: 2082, 300: 1190, 320: 1243, 340: 1114, 0: 1132, 20: 1286, 40: 856, 60: 986, 80: 227, 100: 0, 120: 0, 140: 0, 160: 467},{180: 5458, 200: 676, 220: 862, 240: 898, 260: 5855, 280: 2082, 300: 1185, 320: 1243, 340: 1114, 0: 1132, 20: 1286, 40: 856, 60: 986, 80: 226, 100: 0, 120: 0, 140: 0, 160: 467},{180: 5483, 200: 676, 220: 850, 240: 898, 260: 5868, 280: 2082, 300: 1184, 320: 1243, 340: 1114, 0: 1132, 20: 1278, 40: 864, 60: 975, 80: 228, 100: 0, 120: 0, 140: 0, 160: 467},{180: 5483, 200: 676, 220: 850, 240: 898, 260: 5868, 280: 2082, 300: 1191, 320: 1246, 340: 1114, 0: 1132, 20: 1296, 40: 864, 60: 975, 80: 228, 100: 0, 120: 0, 140: 0, 160: 467},{180: 5494, 200: 676, 220: 850, 240: 6015, 260: 5874, 280: 2082, 300: 1193, 320: 1246, 340: 1114, 0: 1132, 20: 1290, 40: 864, 60: 984, 80: 228, 100: 0, 120: 0, 140: 0, 160: 467},{180: 5469, 200: 676, 220: 969, 240: 1142, 260: 5868, 280: 2026, 300: 1197, 320: 1247, 340: 1114, 0: 1132, 20: 1290, 40: 857, 60: 964, 80: 228, 100: 0, 120: 0, 140: 0, 160: 467},{180: 5483, 200: 676, 220: 895, 240: 5979, 260: 5868, 280: 2055, 300: 1197, 320: 1250, 340: 1114, 0: 1132, 20: 1290, 40: 857, 60: 982, 80: 228, 100: 0, 120: 0, 140: 0, 160: 467},{180: 5483, 200: 676, 220: 797, 240: 5956, 260: 5868, 280: 2067, 300: 1197, 320: 1250, 340: 1114, 0: 1134, 20: 1273, 40: 861, 60: 968, 80: 228, 100: 0, 120: 0, 140: 0, 160: 467},{180: 5483, 200: 676, 220: 743, 240: 6009, 260: 5887, 280: 2074, 300: 1197, 320: 1250, 340: 1114, 0: 1133, 20: 1280, 40: 864, 60: 977, 80: 228, 100: 0, 120: 0, 140: 0, 160: 467},{180: 5409, 200: 792, 220: 743, 240: 6009, 260: 5878, 280: 2027, 300: 1198, 320: 1247, 340: 1114, 0: 1133, 20: 1280, 40: 860, 60: 969, 80: 227, 100: 0, 120: 0, 140: 0, 160: 467},{180: 5436, 200: 792, 220: 743, 240: 6009, 260: 5865, 280: 2031, 300: 1201, 320: 1248, 340: 1114, 0: 1133, 20: 1280, 40: 859, 60: 966, 80: 227, 100: 0, 120: 0, 140: 0, 160: 467},{180: 5475, 200: 767, 220: 691, 240: 6009, 260: 5894, 280: 2027, 300: 1198, 320: 1248, 340: 1114, 0: 1131, 20: 1296, 40: 859, 60: 966, 80: 227, 100: 0, 120: 0, 140: 0, 160: 467},{180: 5486, 200: 767, 220: 694, 240: 5992, 260: 5862, 280: 2027, 300: 1184, 320: 1248, 340: 1114, 0: 1131, 20: 1273, 40: 862, 60: 973, 80: 229, 100: 0, 120: 0, 140: 0, 160: 467},"
     ]
    },
    {
     "ename": "KeyboardInterrupt",
     "evalue": "",
     "output_type": "error",
     "traceback": [
      "\u001b[0;31m---------------------------------------------------------------------------\u001b[0m",
      "\u001b[0;31mKeyboardInterrupt\u001b[0m                         Traceback (most recent call last)",
      "\u001b[0;32m<ipython-input-8-cca380236192>\u001b[0m in \u001b[0;36m<module>\u001b[0;34m\u001b[0m\n\u001b[1;32m      1\u001b[0m \u001b[0;32mwhile\u001b[0m \u001b[0;34m(\u001b[0m\u001b[0;32mTrue\u001b[0m\u001b[0;34m)\u001b[0m\u001b[0;34m:\u001b[0m\u001b[0;34m\u001b[0m\u001b[0;34m\u001b[0m\u001b[0m\n\u001b[0;32m----> 2\u001b[0;31m     \u001b[0mprint\u001b[0m\u001b[0;34m(\u001b[0m\u001b[0mread_lidar_wrapper\u001b[0m\u001b[0;34m(\u001b[0m\u001b[0mangles\u001b[0m\u001b[0;34m,\u001b[0m\u001b[0mprevious_readings\u001b[0m\u001b[0;34m)\u001b[0m\u001b[0;34m,\u001b[0m \u001b[0mend\u001b[0m\u001b[0;34m=\u001b[0m\u001b[0;34m\",\"\u001b[0m\u001b[0;34m)\u001b[0m\u001b[0;34m\u001b[0m\u001b[0;34m\u001b[0m\u001b[0m\n\u001b[0m",
      "\u001b[0;32m<ipython-input-6-02883bc48810>\u001b[0m in \u001b[0;36mread_lidar_wrapper\u001b[0;34m(angles, previous_readings)\u001b[0m\n\u001b[1;32m     14\u001b[0m \u001b[0;34m\u001b[0m\u001b[0m\n\u001b[1;32m     15\u001b[0m     \u001b[0mlidar\u001b[0m \u001b[0;34m=\u001b[0m \u001b[0mRPLidar\u001b[0m\u001b[0;34m(\u001b[0m\u001b[0;34m'/dev/ttyUSB0'\u001b[0m\u001b[0;34m)\u001b[0m  \u001b[0;31m# Establish connection with Lidar\u001b[0m\u001b[0;34m\u001b[0m\u001b[0;34m\u001b[0m\u001b[0m\n\u001b[0;32m---> 16\u001b[0;31m     \u001b[0;32mfor\u001b[0m \u001b[0mi\u001b[0m\u001b[0;34m,\u001b[0m \u001b[0mscan\u001b[0m \u001b[0;32min\u001b[0m \u001b[0menumerate\u001b[0m\u001b[0;34m(\u001b[0m\u001b[0mlidar\u001b[0m\u001b[0;34m.\u001b[0m\u001b[0miter_scans\u001b[0m\u001b[0;34m(\u001b[0m\u001b[0;34m)\u001b[0m\u001b[0;34m)\u001b[0m\u001b[0;34m:\u001b[0m  \u001b[0;31m# Scan the sensor infinitely\u001b[0m\u001b[0;34m\u001b[0m\u001b[0;34m\u001b[0m\u001b[0m\n\u001b[0m\u001b[1;32m     17\u001b[0m         \u001b[0;32mif\u001b[0m \u001b[0mi\u001b[0m\u001b[0;34m>\u001b[0m\u001b[0;36m0\u001b[0m\u001b[0;34m:\u001b[0m\u001b[0;34m\u001b[0m\u001b[0;34m\u001b[0m\u001b[0m\n\u001b[1;32m     18\u001b[0m             \u001b[0mreadings\u001b[0m \u001b[0;34m=\u001b[0m \u001b[0;34m(\u001b[0m\u001b[0;34m{\u001b[0m\u001b[0mint\u001b[0m\u001b[0;34m(\u001b[0m\u001b[0mx\u001b[0m\u001b[0;34m[\u001b[0m\u001b[0;36m1\u001b[0m\u001b[0;34m]\u001b[0m\u001b[0;34m)\u001b[0m\u001b[0;34m:\u001b[0m \u001b[0mint\u001b[0m\u001b[0;34m(\u001b[0m\u001b[0mx\u001b[0m\u001b[0;34m[\u001b[0m\u001b[0;36m2\u001b[0m\u001b[0;34m]\u001b[0m\u001b[0;34m)\u001b[0m \u001b[0;32mfor\u001b[0m \u001b[0mx\u001b[0m \u001b[0;32min\u001b[0m \u001b[0mlist\u001b[0m\u001b[0;34m(\u001b[0m\u001b[0mscan\u001b[0m\u001b[0;34m)\u001b[0m \u001b[0;32mif\u001b[0m \u001b[0mint\u001b[0m\u001b[0;34m(\u001b[0m\u001b[0mx\u001b[0m\u001b[0;34m[\u001b[0m\u001b[0;36m1\u001b[0m\u001b[0;34m]\u001b[0m\u001b[0;34m)\u001b[0m \u001b[0;32min\u001b[0m \u001b[0mangles\u001b[0m\u001b[0;34m}\u001b[0m\u001b[0;34m)\u001b[0m\u001b[0;34m\u001b[0m\u001b[0;34m\u001b[0m\u001b[0m\n",
      "\u001b[0;32m/usr/local/lib/python3.6/dist-packages/rplidar.py\u001b[0m in \u001b[0;36miter_scans\u001b[0;34m(self, max_buf_meas, min_len)\u001b[0m\n\u001b[1;32m    355\u001b[0m         \u001b[0mscan\u001b[0m \u001b[0;34m=\u001b[0m \u001b[0;34m[\u001b[0m\u001b[0;34m]\u001b[0m\u001b[0;34m\u001b[0m\u001b[0;34m\u001b[0m\u001b[0m\n\u001b[1;32m    356\u001b[0m         \u001b[0miterator\u001b[0m \u001b[0;34m=\u001b[0m \u001b[0mself\u001b[0m\u001b[0;34m.\u001b[0m\u001b[0miter_measurments\u001b[0m\u001b[0;34m(\u001b[0m\u001b[0mmax_buf_meas\u001b[0m\u001b[0;34m)\u001b[0m\u001b[0;34m\u001b[0m\u001b[0;34m\u001b[0m\u001b[0m\n\u001b[0;32m--> 357\u001b[0;31m         \u001b[0;32mfor\u001b[0m \u001b[0mnew_scan\u001b[0m\u001b[0;34m,\u001b[0m \u001b[0mquality\u001b[0m\u001b[0;34m,\u001b[0m \u001b[0mangle\u001b[0m\u001b[0;34m,\u001b[0m \u001b[0mdistance\u001b[0m \u001b[0;32min\u001b[0m \u001b[0miterator\u001b[0m\u001b[0;34m:\u001b[0m\u001b[0;34m\u001b[0m\u001b[0;34m\u001b[0m\u001b[0m\n\u001b[0m\u001b[1;32m    358\u001b[0m             \u001b[0;32mif\u001b[0m \u001b[0mnew_scan\u001b[0m\u001b[0;34m:\u001b[0m\u001b[0;34m\u001b[0m\u001b[0;34m\u001b[0m\u001b[0m\n\u001b[1;32m    359\u001b[0m                 \u001b[0;32mif\u001b[0m \u001b[0mlen\u001b[0m\u001b[0;34m(\u001b[0m\u001b[0mscan\u001b[0m\u001b[0;34m)\u001b[0m \u001b[0;34m>\u001b[0m \u001b[0mmin_len\u001b[0m\u001b[0;34m:\u001b[0m\u001b[0;34m\u001b[0m\u001b[0;34m\u001b[0m\u001b[0m\n",
      "\u001b[0;32m/usr/local/lib/python3.6/dist-packages/rplidar.py\u001b[0m in \u001b[0;36miter_measurments\u001b[0;34m(self, max_buf_meas)\u001b[0m\n\u001b[1;32m    321\u001b[0m             \u001b[0;32mraise\u001b[0m \u001b[0mRPLidarException\u001b[0m\u001b[0;34m(\u001b[0m\u001b[0;34m'Wrong response data type'\u001b[0m\u001b[0;34m)\u001b[0m\u001b[0;34m\u001b[0m\u001b[0;34m\u001b[0m\u001b[0m\n\u001b[1;32m    322\u001b[0m         \u001b[0;32mwhile\u001b[0m \u001b[0;32mTrue\u001b[0m\u001b[0;34m:\u001b[0m\u001b[0;34m\u001b[0m\u001b[0;34m\u001b[0m\u001b[0m\n\u001b[0;32m--> 323\u001b[0;31m             \u001b[0mraw\u001b[0m \u001b[0;34m=\u001b[0m \u001b[0mself\u001b[0m\u001b[0;34m.\u001b[0m\u001b[0m_read_response\u001b[0m\u001b[0;34m(\u001b[0m\u001b[0mdsize\u001b[0m\u001b[0;34m)\u001b[0m\u001b[0;34m\u001b[0m\u001b[0;34m\u001b[0m\u001b[0m\n\u001b[0m\u001b[1;32m    324\u001b[0m             \u001b[0mself\u001b[0m\u001b[0;34m.\u001b[0m\u001b[0mlogger\u001b[0m\u001b[0;34m.\u001b[0m\u001b[0mdebug\u001b[0m\u001b[0;34m(\u001b[0m\u001b[0;34m'Recieved scan response: %s'\u001b[0m \u001b[0;34m%\u001b[0m \u001b[0mraw\u001b[0m\u001b[0;34m)\u001b[0m\u001b[0;34m\u001b[0m\u001b[0;34m\u001b[0m\u001b[0m\n\u001b[1;32m    325\u001b[0m             \u001b[0;32mif\u001b[0m \u001b[0mmax_buf_meas\u001b[0m\u001b[0;34m:\u001b[0m\u001b[0;34m\u001b[0m\u001b[0;34m\u001b[0m\u001b[0m\n",
      "\u001b[0;32m/usr/local/lib/python3.6/dist-packages/rplidar.py\u001b[0m in \u001b[0;36m_read_response\u001b[0;34m(self, dsize)\u001b[0m\n\u001b[1;32m    194\u001b[0m         \u001b[0;34m'''Reads response packet with length of `dsize` bytes'''\u001b[0m\u001b[0;34m\u001b[0m\u001b[0;34m\u001b[0m\u001b[0m\n\u001b[1;32m    195\u001b[0m         \u001b[0mself\u001b[0m\u001b[0;34m.\u001b[0m\u001b[0mlogger\u001b[0m\u001b[0;34m.\u001b[0m\u001b[0mdebug\u001b[0m\u001b[0;34m(\u001b[0m\u001b[0;34m'Trying to read response: %d bytes'\u001b[0m\u001b[0;34m,\u001b[0m \u001b[0mdsize\u001b[0m\u001b[0;34m)\u001b[0m\u001b[0;34m\u001b[0m\u001b[0;34m\u001b[0m\u001b[0m\n\u001b[0;32m--> 196\u001b[0;31m         \u001b[0mdata\u001b[0m \u001b[0;34m=\u001b[0m \u001b[0mself\u001b[0m\u001b[0;34m.\u001b[0m\u001b[0m_serial_port\u001b[0m\u001b[0;34m.\u001b[0m\u001b[0mread\u001b[0m\u001b[0;34m(\u001b[0m\u001b[0mdsize\u001b[0m\u001b[0;34m)\u001b[0m\u001b[0;34m\u001b[0m\u001b[0;34m\u001b[0m\u001b[0m\n\u001b[0m\u001b[1;32m    197\u001b[0m         \u001b[0mself\u001b[0m\u001b[0;34m.\u001b[0m\u001b[0mlogger\u001b[0m\u001b[0;34m.\u001b[0m\u001b[0mdebug\u001b[0m\u001b[0;34m(\u001b[0m\u001b[0;34m'Recieved data: %s'\u001b[0m\u001b[0;34m,\u001b[0m \u001b[0mdata\u001b[0m\u001b[0;34m)\u001b[0m\u001b[0;34m\u001b[0m\u001b[0;34m\u001b[0m\u001b[0m\n\u001b[1;32m    198\u001b[0m         \u001b[0;32mif\u001b[0m \u001b[0mlen\u001b[0m\u001b[0;34m(\u001b[0m\u001b[0mdata\u001b[0m\u001b[0;34m)\u001b[0m \u001b[0;34m!=\u001b[0m \u001b[0mdsize\u001b[0m\u001b[0;34m:\u001b[0m\u001b[0;34m\u001b[0m\u001b[0;34m\u001b[0m\u001b[0m\n",
      "\u001b[0;32m/usr/local/lib/python3.6/dist-packages/serial/serialposix.py\u001b[0m in \u001b[0;36mread\u001b[0;34m(self, size)\u001b[0m\n\u001b[1;32m    563\u001b[0m         \u001b[0;32mwhile\u001b[0m \u001b[0mlen\u001b[0m\u001b[0;34m(\u001b[0m\u001b[0mread\u001b[0m\u001b[0;34m)\u001b[0m \u001b[0;34m<\u001b[0m \u001b[0msize\u001b[0m\u001b[0;34m:\u001b[0m\u001b[0;34m\u001b[0m\u001b[0;34m\u001b[0m\u001b[0m\n\u001b[1;32m    564\u001b[0m             \u001b[0;32mtry\u001b[0m\u001b[0;34m:\u001b[0m\u001b[0;34m\u001b[0m\u001b[0;34m\u001b[0m\u001b[0m\n\u001b[0;32m--> 565\u001b[0;31m                 \u001b[0mready\u001b[0m\u001b[0;34m,\u001b[0m \u001b[0m_\u001b[0m\u001b[0;34m,\u001b[0m \u001b[0m_\u001b[0m \u001b[0;34m=\u001b[0m \u001b[0mselect\u001b[0m\u001b[0;34m.\u001b[0m\u001b[0mselect\u001b[0m\u001b[0;34m(\u001b[0m\u001b[0;34m[\u001b[0m\u001b[0mself\u001b[0m\u001b[0;34m.\u001b[0m\u001b[0mfd\u001b[0m\u001b[0;34m,\u001b[0m \u001b[0mself\u001b[0m\u001b[0;34m.\u001b[0m\u001b[0mpipe_abort_read_r\u001b[0m\u001b[0;34m]\u001b[0m\u001b[0;34m,\u001b[0m \u001b[0;34m[\u001b[0m\u001b[0;34m]\u001b[0m\u001b[0;34m,\u001b[0m \u001b[0;34m[\u001b[0m\u001b[0;34m]\u001b[0m\u001b[0;34m,\u001b[0m \u001b[0mtimeout\u001b[0m\u001b[0;34m.\u001b[0m\u001b[0mtime_left\u001b[0m\u001b[0;34m(\u001b[0m\u001b[0;34m)\u001b[0m\u001b[0;34m)\u001b[0m\u001b[0;34m\u001b[0m\u001b[0;34m\u001b[0m\u001b[0m\n\u001b[0m\u001b[1;32m    566\u001b[0m                 \u001b[0;32mif\u001b[0m \u001b[0mself\u001b[0m\u001b[0;34m.\u001b[0m\u001b[0mpipe_abort_read_r\u001b[0m \u001b[0;32min\u001b[0m \u001b[0mready\u001b[0m\u001b[0;34m:\u001b[0m\u001b[0;34m\u001b[0m\u001b[0;34m\u001b[0m\u001b[0m\n\u001b[1;32m    567\u001b[0m                     \u001b[0mos\u001b[0m\u001b[0;34m.\u001b[0m\u001b[0mread\u001b[0m\u001b[0;34m(\u001b[0m\u001b[0mself\u001b[0m\u001b[0;34m.\u001b[0m\u001b[0mpipe_abort_read_r\u001b[0m\u001b[0;34m,\u001b[0m \u001b[0;36m1000\u001b[0m\u001b[0;34m)\u001b[0m\u001b[0;34m\u001b[0m\u001b[0;34m\u001b[0m\u001b[0m\n",
      "\u001b[0;31mKeyboardInterrupt\u001b[0m: "
     ]
    }
   ],
   "source": [
    "while (True):\n",
    "    print(read_lidar_wrapper(angles,previous_readings), end=\",\")"
   ]
  },
  {
   "cell_type": "code",
   "execution_count": 10,
   "metadata": {},
   "outputs": [
    {
     "name": "stdout",
     "output_type": "stream",
     "text": [
      "5461,5423,5475,5475,5475,805,805,805,216,181,163,173,279,279,279,5469,5469,5469,5461,1968,1905,1977,1977,5428,5428,5428,5428,5464,5472,5472,5450,5450,5450,5450,1853,1793,1817,"
     ]
    },
    {
     "ename": "KeyboardInterrupt",
     "evalue": "",
     "output_type": "error",
     "traceback": [
      "\u001b[0;31m---------------------------------------------------------------------------\u001b[0m",
      "\u001b[0;31mKeyboardInterrupt\u001b[0m                         Traceback (most recent call last)",
      "\u001b[0;32m<ipython-input-10-5f78aa5e45e1>\u001b[0m in \u001b[0;36m<module>\u001b[0;34m\u001b[0m\n\u001b[1;32m      1\u001b[0m \u001b[0;32mwhile\u001b[0m \u001b[0;34m(\u001b[0m\u001b[0;32mTrue\u001b[0m\u001b[0;34m)\u001b[0m\u001b[0;34m:\u001b[0m\u001b[0;34m\u001b[0m\u001b[0;34m\u001b[0m\u001b[0m\n\u001b[0;32m----> 2\u001b[0;31m     \u001b[0mreadings\u001b[0m \u001b[0;34m=\u001b[0m \u001b[0mread_lidar_wrapper\u001b[0m\u001b[0;34m(\u001b[0m\u001b[0mangles\u001b[0m\u001b[0;34m,\u001b[0m\u001b[0mprevious_readings\u001b[0m\u001b[0;34m)\u001b[0m\u001b[0;34m\u001b[0m\u001b[0;34m\u001b[0m\u001b[0m\n\u001b[0m\u001b[1;32m      3\u001b[0m     \u001b[0mprint\u001b[0m\u001b[0;34m(\u001b[0m\u001b[0mreadings\u001b[0m\u001b[0;34m[\u001b[0m\u001b[0;36m180\u001b[0m\u001b[0;34m]\u001b[0m\u001b[0;34m,\u001b[0m \u001b[0mend\u001b[0m\u001b[0;34m=\u001b[0m\u001b[0;34m\",\"\u001b[0m\u001b[0;34m)\u001b[0m\u001b[0;34m\u001b[0m\u001b[0;34m\u001b[0m\u001b[0m\n",
      "\u001b[0;32m<ipython-input-6-02883bc48810>\u001b[0m in \u001b[0;36mread_lidar_wrapper\u001b[0;34m(angles, previous_readings)\u001b[0m\n\u001b[1;32m     14\u001b[0m \u001b[0;34m\u001b[0m\u001b[0m\n\u001b[1;32m     15\u001b[0m     \u001b[0mlidar\u001b[0m \u001b[0;34m=\u001b[0m \u001b[0mRPLidar\u001b[0m\u001b[0;34m(\u001b[0m\u001b[0;34m'/dev/ttyUSB0'\u001b[0m\u001b[0;34m)\u001b[0m  \u001b[0;31m# Establish connection with Lidar\u001b[0m\u001b[0;34m\u001b[0m\u001b[0;34m\u001b[0m\u001b[0m\n\u001b[0;32m---> 16\u001b[0;31m     \u001b[0;32mfor\u001b[0m \u001b[0mi\u001b[0m\u001b[0;34m,\u001b[0m \u001b[0mscan\u001b[0m \u001b[0;32min\u001b[0m \u001b[0menumerate\u001b[0m\u001b[0;34m(\u001b[0m\u001b[0mlidar\u001b[0m\u001b[0;34m.\u001b[0m\u001b[0miter_scans\u001b[0m\u001b[0;34m(\u001b[0m\u001b[0;34m)\u001b[0m\u001b[0;34m)\u001b[0m\u001b[0;34m:\u001b[0m  \u001b[0;31m# Scan the sensor infinitely\u001b[0m\u001b[0;34m\u001b[0m\u001b[0;34m\u001b[0m\u001b[0m\n\u001b[0m\u001b[1;32m     17\u001b[0m         \u001b[0;32mif\u001b[0m \u001b[0mi\u001b[0m\u001b[0;34m>\u001b[0m\u001b[0;36m0\u001b[0m\u001b[0;34m:\u001b[0m\u001b[0;34m\u001b[0m\u001b[0;34m\u001b[0m\u001b[0m\n\u001b[1;32m     18\u001b[0m             \u001b[0mreadings\u001b[0m \u001b[0;34m=\u001b[0m \u001b[0;34m(\u001b[0m\u001b[0;34m{\u001b[0m\u001b[0mint\u001b[0m\u001b[0;34m(\u001b[0m\u001b[0mx\u001b[0m\u001b[0;34m[\u001b[0m\u001b[0;36m1\u001b[0m\u001b[0;34m]\u001b[0m\u001b[0;34m)\u001b[0m\u001b[0;34m:\u001b[0m \u001b[0mint\u001b[0m\u001b[0;34m(\u001b[0m\u001b[0mx\u001b[0m\u001b[0;34m[\u001b[0m\u001b[0;36m2\u001b[0m\u001b[0;34m]\u001b[0m\u001b[0;34m)\u001b[0m \u001b[0;32mfor\u001b[0m \u001b[0mx\u001b[0m \u001b[0;32min\u001b[0m \u001b[0mlist\u001b[0m\u001b[0;34m(\u001b[0m\u001b[0mscan\u001b[0m\u001b[0;34m)\u001b[0m \u001b[0;32mif\u001b[0m \u001b[0mint\u001b[0m\u001b[0;34m(\u001b[0m\u001b[0mx\u001b[0m\u001b[0;34m[\u001b[0m\u001b[0;36m1\u001b[0m\u001b[0;34m]\u001b[0m\u001b[0;34m)\u001b[0m \u001b[0;32min\u001b[0m \u001b[0mangles\u001b[0m\u001b[0;34m}\u001b[0m\u001b[0;34m)\u001b[0m\u001b[0;34m\u001b[0m\u001b[0;34m\u001b[0m\u001b[0m\n",
      "\u001b[0;32m/usr/local/lib/python3.6/dist-packages/rplidar.py\u001b[0m in \u001b[0;36miter_scans\u001b[0;34m(self, max_buf_meas, min_len)\u001b[0m\n\u001b[1;32m    355\u001b[0m         \u001b[0mscan\u001b[0m \u001b[0;34m=\u001b[0m \u001b[0;34m[\u001b[0m\u001b[0;34m]\u001b[0m\u001b[0;34m\u001b[0m\u001b[0;34m\u001b[0m\u001b[0m\n\u001b[1;32m    356\u001b[0m         \u001b[0miterator\u001b[0m \u001b[0;34m=\u001b[0m \u001b[0mself\u001b[0m\u001b[0;34m.\u001b[0m\u001b[0miter_measurments\u001b[0m\u001b[0;34m(\u001b[0m\u001b[0mmax_buf_meas\u001b[0m\u001b[0;34m)\u001b[0m\u001b[0;34m\u001b[0m\u001b[0;34m\u001b[0m\u001b[0m\n\u001b[0;32m--> 357\u001b[0;31m         \u001b[0;32mfor\u001b[0m \u001b[0mnew_scan\u001b[0m\u001b[0;34m,\u001b[0m \u001b[0mquality\u001b[0m\u001b[0;34m,\u001b[0m \u001b[0mangle\u001b[0m\u001b[0;34m,\u001b[0m \u001b[0mdistance\u001b[0m \u001b[0;32min\u001b[0m \u001b[0miterator\u001b[0m\u001b[0;34m:\u001b[0m\u001b[0;34m\u001b[0m\u001b[0;34m\u001b[0m\u001b[0m\n\u001b[0m\u001b[1;32m    358\u001b[0m             \u001b[0;32mif\u001b[0m \u001b[0mnew_scan\u001b[0m\u001b[0;34m:\u001b[0m\u001b[0;34m\u001b[0m\u001b[0;34m\u001b[0m\u001b[0m\n\u001b[1;32m    359\u001b[0m                 \u001b[0;32mif\u001b[0m \u001b[0mlen\u001b[0m\u001b[0;34m(\u001b[0m\u001b[0mscan\u001b[0m\u001b[0;34m)\u001b[0m \u001b[0;34m>\u001b[0m \u001b[0mmin_len\u001b[0m\u001b[0;34m:\u001b[0m\u001b[0;34m\u001b[0m\u001b[0;34m\u001b[0m\u001b[0m\n",
      "\u001b[0;32m/usr/local/lib/python3.6/dist-packages/rplidar.py\u001b[0m in \u001b[0;36miter_measurments\u001b[0;34m(self, max_buf_meas)\u001b[0m\n\u001b[1;32m    322\u001b[0m         \u001b[0;32mwhile\u001b[0m \u001b[0;32mTrue\u001b[0m\u001b[0;34m:\u001b[0m\u001b[0;34m\u001b[0m\u001b[0;34m\u001b[0m\u001b[0m\n\u001b[1;32m    323\u001b[0m             \u001b[0mraw\u001b[0m \u001b[0;34m=\u001b[0m \u001b[0mself\u001b[0m\u001b[0;34m.\u001b[0m\u001b[0m_read_response\u001b[0m\u001b[0;34m(\u001b[0m\u001b[0mdsize\u001b[0m\u001b[0;34m)\u001b[0m\u001b[0;34m\u001b[0m\u001b[0;34m\u001b[0m\u001b[0m\n\u001b[0;32m--> 324\u001b[0;31m             \u001b[0mself\u001b[0m\u001b[0;34m.\u001b[0m\u001b[0mlogger\u001b[0m\u001b[0;34m.\u001b[0m\u001b[0mdebug\u001b[0m\u001b[0;34m(\u001b[0m\u001b[0;34m'Recieved scan response: %s'\u001b[0m \u001b[0;34m%\u001b[0m \u001b[0mraw\u001b[0m\u001b[0;34m)\u001b[0m\u001b[0;34m\u001b[0m\u001b[0;34m\u001b[0m\u001b[0m\n\u001b[0m\u001b[1;32m    325\u001b[0m             \u001b[0;32mif\u001b[0m \u001b[0mmax_buf_meas\u001b[0m\u001b[0;34m:\u001b[0m\u001b[0;34m\u001b[0m\u001b[0;34m\u001b[0m\u001b[0m\n\u001b[1;32m    326\u001b[0m                 \u001b[0mdata_in_buf\u001b[0m \u001b[0;34m=\u001b[0m \u001b[0mself\u001b[0m\u001b[0;34m.\u001b[0m\u001b[0m_serial_port\u001b[0m\u001b[0;34m.\u001b[0m\u001b[0min_waiting\u001b[0m\u001b[0;34m\u001b[0m\u001b[0;34m\u001b[0m\u001b[0m\n",
      "\u001b[0;31mKeyboardInterrupt\u001b[0m: "
     ]
    }
   ],
   "source": [
    "# Reading units = mm\n",
    "while (True):\n",
    "    readings = read_lidar_wrapper(angles,previous_readings)\n",
    "    print(readings[180], end=\",\")"
   ]
  },
  {
   "cell_type": "code",
   "execution_count": null,
   "metadata": {},
   "outputs": [],
   "source": []
  }
 ],
 "metadata": {
  "kernelspec": {
   "display_name": "Python 3",
   "language": "python",
   "name": "python3"
  },
  "language_info": {
   "codemirror_mode": {
    "name": "ipython",
    "version": 3
   },
   "file_extension": ".py",
   "mimetype": "text/x-python",
   "name": "python",
   "nbconvert_exporter": "python",
   "pygments_lexer": "ipython3",
   "version": "3.6.9"
  }
 },
 "nbformat": 4,
 "nbformat_minor": 4
}
