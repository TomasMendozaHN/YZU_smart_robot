{
 "cells": [
  {
   "cell_type": "code",
   "execution_count": null,
   "metadata": {},
   "outputs": [],
   "source": [
    "def calculate_angle(WIDTH, keypoints, FOV=160):\n",
    "    '''\n",
    "    Arguments:\n",
    "        + Image width\n",
    "        + Dictionary of keypoints\n",
    "        + Field of vision of camera (in degrees). Default = 160 if using CSI camera with fish-eye lens\n",
    "        \n",
    "    Returns:\n",
    "        + Angle at which the object is located from respect to the center    \n",
    "    '''\n",
    "    \n",
    "    keys = keypoints.values()\n",
    "    \n",
    "    # if at least 2 points are detected\n",
    "    if len(keys) > 1:  \n",
    "        object_location = int(sum([x for x,y in keys])/len(keys))\n",
    "        angle = int(-FOV*(WIDTH/2 - object_location)/WIDTH)\n",
    "        return [angle], keypoints\n",
    "    \n",
    "    \n",
    "    else:\n",
    "        return [-1], keypoints"
   ]
  }
 ],
 "metadata": {
  "kernelspec": {
   "display_name": "Python 3",
   "language": "python",
   "name": "python3"
  },
  "language_info": {
   "codemirror_mode": {
    "name": "ipython",
    "version": 3
   },
   "file_extension": ".py",
   "mimetype": "text/x-python",
   "name": "python",
   "nbconvert_exporter": "python",
   "pygments_lexer": "ipython3",
   "version": "3.6.9"
  }
 },
 "nbformat": 4,
 "nbformat_minor": 4
}
