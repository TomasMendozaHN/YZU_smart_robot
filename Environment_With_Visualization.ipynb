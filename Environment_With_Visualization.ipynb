{
 "cells": [
  {
   "cell_type": "code",
   "execution_count": null,
   "metadata": {},
   "outputs": [],
   "source": [
    "%run Scripts/Read_RP_Lidar.ipynb\n",
    "%run Scripts/Estimate_stages.ipynb\n",
    "%run Scripts/Calculate_Angles.ipynb\n",
    "%run Scripts/Env_Class.ipynb"
   ]
  },
  {
   "cell_type": "markdown",
   "metadata": {},
   "source": [
    "# Variables"
   ]
  },
  {
   "cell_type": "code",
   "execution_count": null,
   "metadata": {},
   "outputs": [],
   "source": [
    "# If True you WILL Collect Data\n",
    "global COLLECT_DATA \n",
    "COLLECT_DATA = False \n",
    "\n",
    "# If you have a Fan, set to True\n",
    "global FAN_CONTROL\n",
    "FAN_CONTROL = False\n",
    "\n",
    "# Define what angles you want to measure\n",
    "angles = [x for x in range(180,360,20)]+[x for x in range(0,180,20)]\n",
    "\n",
    "# A3C Trained Model Path\n",
    "UNITY_MODEL = \"Files/George-1-128.pth\""
   ]
  },
  {
   "cell_type": "markdown",
   "metadata": {},
   "source": [
    "# Reset Camera + Lidar"
   ]
  },
  {
   "cell_type": "code",
   "execution_count": null,
   "metadata": {},
   "outputs": [],
   "source": [
    "import getpass\n",
    "import os\n",
    "\n",
    "# Reset Camera\n",
    "password = 'jetbot'\n",
    "command = \"sudo -S systemctl restart nvargus-daemon\" #can be any command but don't forget -S as it enables input from stdin\n",
    "os.system('echo %s | %s' % (password, command))\n",
    "\n",
    "# Reset Lidar\n",
    "command = \"sudo -S chmod 666 /dev/ttyUSB0\" #can be any command but don't forget -S as it enables input from stdin\n",
    "os.system('echo %s | %s' % (password, command))"
   ]
  },
  {
   "cell_type": "markdown",
   "metadata": {},
   "source": [
    "# Load the Pre-Trained Keypoints RCNN"
   ]
  },
  {
   "cell_type": "code",
   "execution_count": null,
   "metadata": {},
   "outputs": [],
   "source": [
    "from threading import Thread\n",
    "import os\n",
    "import json\n",
    "import trt_pose.coco\n",
    "\n",
    "with open('Files/human_pose.json', 'r') as f:\n",
    "    human_pose = json.load(f)\n",
    "\n",
    "topology = trt_pose.coco.coco_category_to_topology(human_pose)"
   ]
  },
  {
   "cell_type": "code",
   "execution_count": null,
   "metadata": {},
   "outputs": [],
   "source": [
    "import trt_pose.models\n",
    "\n",
    "num_parts = len(human_pose['keypoints'])\n",
    "num_links = len(human_pose['skeleton'])"
   ]
  },
  {
   "cell_type": "code",
   "execution_count": null,
   "metadata": {},
   "outputs": [],
   "source": [
    "import torch\n",
    "from jetbot import Robot\n",
    "import time\n",
    "\n",
    "WIDTH = 224\n",
    "HEIGHT = 224\n",
    "\n",
    "data = torch.zeros((1, 3, HEIGHT, WIDTH)).cuda()"
   ]
  },
  {
   "cell_type": "code",
   "execution_count": null,
   "metadata": {},
   "outputs": [],
   "source": [
    "import torch2trt\n",
    "OPTIMIZED_MODEL = 'Files/resnet18_baseline_att_224x224_A_epoch_249_trt.pth'\n",
    "\n",
    "from torch2trt import TRTModule\n",
    "model_trt = TRTModule()\n",
    "model_trt.load_state_dict(torch.load(OPTIMIZED_MODEL))\n",
    "print(\"KeyPoints RCNN Successfully Loaded. \")"
   ]
  },
  {
   "cell_type": "markdown",
   "metadata": {},
   "source": [
    "# Initialize the Camera"
   ]
  },
  {
   "cell_type": "code",
   "execution_count": null,
   "metadata": {},
   "outputs": [],
   "source": [
    "import cv2\n",
    "import torchvision.transforms as transforms\n",
    "import PIL.Image\n",
    "import time\n",
    "\n",
    "mean = torch.Tensor([0.485, 0.456, 0.406]).cuda()\n",
    "std = torch.Tensor([0.229, 0.224, 0.225]).cuda()\n",
    "device = torch.device('cuda')\n",
    "\n",
    "def preprocess(image):\n",
    "    global device\n",
    "    device = torch.device('cuda')\n",
    "    image = cv2.cvtColor(image, cv2.COLOR_BGR2RGB)\n",
    "    image = PIL.Image.fromarray(image)\n",
    "    image = transforms.functional.to_tensor(image).to(device)\n",
    "    image.sub_(mean[:, None, None]).div_(std[:, None, None])\n",
    "    return image[None, ...]"
   ]
  },
  {
   "cell_type": "code",
   "execution_count": null,
   "metadata": {},
   "outputs": [],
   "source": [
    "from trt_pose.draw_objects import DrawObjects\n",
    "from trt_pose.parse_objects import ParseObjects\n",
    "\n",
    "parse_objects = ParseObjects(topology)\n",
    "draw_objects = DrawObjects(topology)"
   ]
  },
  {
   "cell_type": "code",
   "execution_count": null,
   "metadata": {},
   "outputs": [],
   "source": [
    "from jetcam.csi_camera import CSICamera\n",
    "\n",
    "camera = CSICamera(width=WIDTH, height=HEIGHT, capture_fps=15)\n",
    "camera.running = True"
   ]
  },
  {
   "cell_type": "markdown",
   "metadata": {},
   "source": [
    "# Initialize Paths to Save Collected KeyPoints Data"
   ]
  },
  {
   "cell_type": "code",
   "execution_count": null,
   "metadata": {},
   "outputs": [],
   "source": [
    "import numpy as np\n",
    "import shutil\n",
    "global folder\n",
    "\n",
    "camera.running = True\n",
    "\n",
    "if COLLECT_DATA:\n",
    "    folder = \"/home/jetbot/Desktop/\"\n",
    "    file_path = folder + \"temp.csv\"\n",
    "    f = open(file_path, \"a\")"
   ]
  },
  {
   "cell_type": "markdown",
   "metadata": {},
   "source": [
    "# Get the KeyPoints (For Angle Calculation)"
   ]
  },
  {
   "cell_type": "code",
   "execution_count": null,
   "metadata": {},
   "outputs": [],
   "source": [
    "def get_keypoints(image, human_pose, topology, object_counts, objects, normalized_peaks):\n",
    "    \"\"\"Get the keypoints from torch data and put into a dictionary where keys are keypoints\n",
    "    and values the x,y coordinates. The coordinates will be interpreted on the image given.\n",
    "\n",
    "    Args:\n",
    "        image: cv2 image\n",
    "        human_pose: json formatted file about the keypoints\n",
    "\n",
    "    Returns:\n",
    "        dictionary: dictionary where keys are keypoints and values are the x,y coordinates\n",
    "    \"\"\"\n",
    "    height = image.shape[0]\n",
    "    width = image.shape[1]\n",
    "    keypoints = {}\n",
    "    K = topology.shape[0]\n",
    "    count = int(object_counts[0])\n",
    "\n",
    "    for i in range(count):\n",
    "        obj = objects[0][i]\n",
    "        C = obj.shape[0]\n",
    "        for j in range(C):\n",
    "            k = int(obj[j])\n",
    "            if k >= 0:\n",
    "                peak = normalized_peaks[0][j][k]\n",
    "                x = round(float(peak[1]) * width)\n",
    "                y = round(float(peak[0]) * height)\n",
    "                keypoints[human_pose[\"keypoints\"][j]] = (x, y)\n",
    "\n",
    "    return keypoints"
   ]
  },
  {
   "cell_type": "markdown",
   "metadata": {},
   "source": [
    "# Get KeyPoints (To save in Files)"
   ]
  },
  {
   "cell_type": "code",
   "execution_count": null,
   "metadata": {},
   "outputs": [],
   "source": [
    "def get_keypoint(humans, hnum, peaks):\n",
    "    #check invalid human index\n",
    "    kpoint = []\n",
    "    human = humans[0][hnum]\n",
    "    C = human.shape[0]\n",
    "    for j in range(C):\n",
    "        k = int(human[j])\n",
    "        if k >= 0:\n",
    "            peak = peaks[0][j][k]   # peak[1]:width, peak[0]:height\n",
    "            peak = [j, float(peak[0]), float(peak[1])]\n",
    "            kpoint.append(peak)\n",
    "        else:    \n",
    "            peak = [j, -1, -1] # -1 = None\n",
    "            kpoint.append(peak)\n",
    "\n",
    "    return kpoint"
   ]
  },
  {
   "cell_type": "markdown",
   "metadata": {},
   "source": [
    "# Define Speed Control"
   ]
  },
  {
   "cell_type": "code",
   "execution_count": null,
   "metadata": {},
   "outputs": [],
   "source": [
    "def fan_control(speed):\n",
    "    if speed >= 0 and speed <=100:\n",
    "        print(\"Changing speed of fan to: \" + str(speed))\n",
    "        cmd = \"echo \" + str(speed) + \" > /sys/devices/pwm-fan/target_pwm\"\n",
    "        os.system(cmd)\n",
    "        print(\"Speed of fan changed\")\n",
    "    else:\n",
    "        print(\"Speed value incorrect: \" + str(speed) + \". Not changing fan speed\")"
   ]
  },
  {
   "cell_type": "markdown",
   "metadata": {},
   "source": [
    "# Load Unity Trained Model and defines more variables"
   ]
  },
  {
   "cell_type": "code",
   "execution_count": null,
   "metadata": {},
   "outputs": [],
   "source": [
    "model = torch.load(UNITY_MODEL)\n",
    "model.eval()"
   ]
  },
  {
   "cell_type": "markdown",
   "metadata": {},
   "source": [
    "# Initialize Environment"
   ]
  },
  {
   "cell_type": "code",
   "execution_count": null,
   "metadata": {},
   "outputs": [],
   "source": [
    "robot = Robot()\n",
    "env = Environment(model, angles, robot)"
   ]
  },
  {
   "cell_type": "markdown",
   "metadata": {},
   "source": [
    "# Defines Thread that handles running the Environment"
   ]
  },
  {
   "cell_type": "code",
   "execution_count": null,
   "metadata": {},
   "outputs": [],
   "source": [
    "from IPython.display import clear_output as cls\n",
    "\n",
    "def RUN_ENV():\n",
    "    \n",
    "    global environment_running\n",
    "    \n",
    "    environment_running = True\n",
    "    \n",
    "    for i in range (100):\n",
    "        #cls(wait=True)\n",
    "        print(f'\\n\\nRunning for iteration #: {i}')\n",
    "        observation = env.observe()\n",
    "        # Normalize RPLIDAR\n",
    "        observation2 = observation[0:4] + [x/12000 for x in observation[4:]]\n",
    "        print('Observation collected: ', observation2)\n",
    "\n",
    "        action = env.sample_action(observation2)\n",
    "        print('Action sampled: ', action)\n",
    "#         env.step(action)\n",
    "#         print('Action Taken')  "
   ]
  },
  {
   "cell_type": "markdown",
   "metadata": {},
   "source": [
    "# Defines Execute used to calculate angle"
   ]
  },
  {
   "cell_type": "code",
   "execution_count": null,
   "metadata": {},
   "outputs": [],
   "source": [
    "def execute2(change, visualize=True):\n",
    "    image = change['new']\n",
    "    data = preprocess(image)\n",
    "    cmap, paf = model_trt(data)\n",
    "    cmap, paf = cmap.detach().cpu(), paf.detach().cpu()\n",
    "    counts, objects, peaks = parse_objects(cmap, paf)#, cmap_threshold=0.15, link_threshold=0.15)\n",
    "    keypoints = get_keypoints(image, human_pose, topology, counts, objects, peaks)\n",
    "\n",
    "    return keypoints, image, counts, objects, peaks"
   ]
  },
  {
   "cell_type": "markdown",
   "metadata": {},
   "source": [
    "# Defines Execute to visualize Camera"
   ]
  },
  {
   "cell_type": "code",
   "execution_count": null,
   "metadata": {},
   "outputs": [],
   "source": [
    "def execute(change):\n",
    "    image = change['new']\n",
    "    data = preprocess(image)\n",
    "    cmap, paf = model_trt(data)\n",
    "    cmap, paf = cmap.detach().cpu(), paf.detach().cpu()\n",
    "    counts, objects, peaks = parse_objects(cmap, paf)#, cmap_threshold=0.15, link_threshold=0.15)\n",
    "    keypoints = get_keypoint(objects, 0, peaks) # 0 for just the first human recognized in the frame\n",
    "\n",
    "    draw_objects(image, counts, objects, peaks)\n",
    "    image_w.value = bgr8_to_jpeg(image[:, ::-1, :])\n",
    "    \n",
    "    if COLLECT_DATA:\n",
    "        np.savetxt(f, keypoints, delimiter=',', fmt='%.4f', newline='\\n')\n",
    "    \n",
    "        global kp_sets_saved\n",
    "        global files_copied\n",
    "        kp_sets_saved = kp_sets_saved + 1\n",
    "        print(str(int(time.time())) + \" kp sets saved: \" + str(kp_sets_saved))\n",
    "        if kp_sets_saved == 100: # save every 100 sets of keypoints\n",
    "            current_epoch = int(time.time())\n",
    "            new_file = folder + str(current_epoch) + \".csv\"\n",
    "            print(str(int(time.time())) + \" temp file copied to: \" + new_file)\n",
    "            shutil.copy(file_path, new_file)\n",
    "            files_copied = files_copied + 1\n",
    "            kp_sets_saved = 0\n",
    "            print(str(int(time.time())) + \" temp file truncated\")\n",
    "            f.truncate()\n",
    "            \n",
    "        if files_copied == 20 and upload_running == 0:\n",
    "            thread = Thread(target = upload) \n",
    "            thread.start()\n",
    "        \n",
    "    if environment_running == False:\n",
    "        thread2 = Thread(target = RUN_ENV)\n",
    "        thread2.start()"
   ]
  },
  {
   "cell_type": "code",
   "execution_count": null,
   "metadata": {},
   "outputs": [],
   "source": [
    "if COLLECT_DATA:\n",
    "    kp_sets_saved = 0\n",
    "    files_copied = 0\n",
    "    upload_running = 0\n",
    "\n",
    "# activate fan on low speed before starting processing images\n",
    "if FAN_CONTROL:\n",
    "    fan_control(64) # 1/4 of full speed, 255 is full speeed\n",
    "    \n",
    "environment_running = False\n",
    "\n",
    "if COLLECT_DATA:\n",
    "    upload()"
   ]
  },
  {
   "cell_type": "code",
   "execution_count": null,
   "metadata": {},
   "outputs": [],
   "source": [
    "import ipywidgets\n",
    "from IPython.display import display\n",
    "from jetcam.utils import bgr8_to_jpeg\n",
    "\n",
    "image_w = ipywidgets.Image(format='jpeg', width=WIDTH, height=HEIGHT)\n",
    "display(image_w)"
   ]
  },
  {
   "cell_type": "code",
   "execution_count": null,
   "metadata": {},
   "outputs": [],
   "source": [
    "execute({'new': camera.value})\n",
    "camera.observe(execute, names='value')"
   ]
  },
  {
   "cell_type": "code",
   "execution_count": null,
   "metadata": {},
   "outputs": [],
   "source": [
    "if COLLECT_DATA: upload()\n",
    "if FAN_CONTROL: fan_control(0)   # Fan off"
   ]
  },
  {
   "cell_type": "code",
   "execution_count": null,
   "metadata": {},
   "outputs": [],
   "source": []
  }
 ],
 "metadata": {
  "kernelspec": {
   "display_name": "Python 3",
   "language": "python",
   "name": "python3"
  },
  "language_info": {
   "codemirror_mode": {
    "name": "ipython",
    "version": 3
   },
   "file_extension": ".py",
   "mimetype": "text/x-python",
   "name": "python",
   "nbconvert_exporter": "python",
   "pygments_lexer": "ipython3",
   "version": "3.6.9"
  }
 },
 "nbformat": 4,
 "nbformat_minor": 4
}
