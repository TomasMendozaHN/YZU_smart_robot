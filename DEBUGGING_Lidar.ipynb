{
 "cells": [
  {
   "cell_type": "code",
   "execution_count": 1,
   "id": "selected-intelligence",
   "metadata": {},
   "outputs": [],
   "source": [
    "from rplidar import RPLidar\n",
    "import os"
   ]
  },
  {
   "cell_type": "code",
   "execution_count": 2,
   "id": "religious-sampling",
   "metadata": {},
   "outputs": [
    {
     "data": {
      "text/plain": [
       "0"
      ]
     },
     "execution_count": 2,
     "metadata": {},
     "output_type": "execute_result"
    }
   ],
   "source": [
    "import getpass\n",
    "import os\n",
    "\n",
    "# Reset Lidar\n",
    "password = 'jetbot'\n",
    "command = \"sudo -S chmod 666 /dev/ttyUSB0\" #can be any command but don't forget -S as it enables input from stdin\n",
    "os.system('echo %s | %s' % (password, command))"
   ]
  },
  {
   "cell_type": "code",
   "execution_count": 3,
   "id": "innocent-marine",
   "metadata": {},
   "outputs": [],
   "source": [
    "# Establish connection with Lidar using Library\n",
    "lidar = RPLidar('/dev/ttyUSB0')  # Choose usb port where RPLidar is located in"
   ]
  },
  {
   "cell_type": "code",
   "execution_count": 4,
   "id": "congressional-haiti",
   "metadata": {},
   "outputs": [],
   "source": [
    "# Define what angles you want to measure\n",
    "angles = [90, 180, 270]"
   ]
  },
  {
   "cell_type": "code",
   "execution_count": 5,
   "id": "matched-scroll",
   "metadata": {},
   "outputs": [],
   "source": [
    "# Initialize all sensor readings to 0\n",
    "previous_readings = {x:0 for x in angles} "
   ]
  },
  {
   "cell_type": "code",
   "execution_count": 6,
   "id": "quick-assumption",
   "metadata": {},
   "outputs": [],
   "source": [
    "def read_lidar_wrapper(angles,previous_readings):\n",
    "    \n",
    "    ''' Wrapper function for the RPLidar library. \n",
    "    \n",
    "        This function takes as inputs:\n",
    "            -> the angles to measure as a list\n",
    "            -> the RPLidar object (instantiated using RPLidar library)\n",
    "            -> the previous_readings dictionary \n",
    "            \n",
    "        This function returns:\n",
    "            -> the updated previous_readings dictionary with new measurements\n",
    "\n",
    "        '''\n",
    "       \n",
    "    lidar = RPLidar('/dev/ttyUSB0')  # Establish connection with Lidar\n",
    "    for i, scan in enumerate(lidar.iter_scans()):  # Scan the sensor infinitely\n",
    "        if i>0:\n",
    "            readings = ({int(x[1]): int(x[2]) for x in list(scan) if int(x[1]) in angles})\n",
    "            break  # Stop the scan to exit infinite loop\n",
    "    \n",
    "    \n",
    "    #  Sometimes the sensor doesn't read all angles (unfortunately that's how it works)\n",
    "    #  so we must add those missing values as the previous sensor readings \n",
    "    #  to avoid having a dictionary with missing values\n",
    "    for key in previous_readings.keys():\n",
    "        try:\n",
    "            if readings[key]: \n",
    "                previous_readings[key]=readings[key]\n",
    "        except:\n",
    "            continue\n",
    "\n",
    "    lidar.stop()        # Stop the sensor to be able to read it again\n",
    "    lidar.disconnect()  # Stop the sensor to be able to read it again\n",
    "    return previous_readings"
   ]
  },
  {
   "cell_type": "code",
   "execution_count": null,
   "id": "legislative-skiing",
   "metadata": {},
   "outputs": [
    {
     "name": "stdout",
     "output_type": "stream",
     "text": [
      "Angle 90 reading: 319\n"
     ]
    }
   ],
   "source": [
    "from IPython.display import clear_output as cls\n",
    "\n",
    "while True:\n",
    "    cls(wait=True)  # Clear print every time\n",
    "    previous_readings = read_lidar_wrapper(angles, previous_readings)\n",
    "    print(f\"Angle {angles[0]} reading: {previous_readings[angles[0]]}\")"
   ]
  }
 ],
 "metadata": {
  "kernelspec": {
   "display_name": "Python 3",
   "language": "python",
   "name": "python3"
  },
  "language_info": {
   "codemirror_mode": {
    "name": "ipython",
    "version": 3
   },
   "file_extension": ".py",
   "mimetype": "text/x-python",
   "name": "python",
   "nbconvert_exporter": "python",
   "pygments_lexer": "ipython3",
   "version": "3.6.9"
  }
 },
 "nbformat": 4,
 "nbformat_minor": 5
}
