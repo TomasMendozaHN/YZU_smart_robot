{
 "cells": [
  {
   "cell_type": "code",
   "execution_count": 1,
   "metadata": {},
   "outputs": [],
   "source": [
    "from rplidar import RPLidar\n",
    "\n",
    "# Establish connection with Lidar using Library\n",
    "lidar = RPLidar('/dev/ttyUSB0')           \n",
    "\n",
    "# Define what angles you want to measure\n",
    "angles = [0,30,60,90,120,150,180]         \n",
    "previous_readings = {x:0 for x in angles}"
   ]
  },
  {
   "cell_type": "code",
   "execution_count": 2,
   "metadata": {},
   "outputs": [],
   "source": [
    "def read_lidar_wrapper(angles,lidar,previous_readings):\n",
    "    \n",
    "    ''' Wrapper function for the RPLidar library. \n",
    "    \n",
    "        This function takes as inputs:\n",
    "            -> the angles to measure as a list\n",
    "            -> the RPLidar object (instantiated using RPLidar library)\n",
    "            -> the previous_readings dictionary \n",
    "            \n",
    "        This function returns:\n",
    "            -> the updated previous_readings dictionary with new measurements\n",
    "\n",
    "        '''\n",
    "       \n",
    "    lidar = RPLidar('/dev/ttyUSB0')  # Establish connection with Lidar\n",
    "    for i, scan in enumerate(lidar.iter_scans()):  # Scan the sensor infinitely\n",
    "        if i>0:\n",
    "            readings = ({int(x[1]): int(x[2]) for x in list(scan) if int(x[1]) in angles})\n",
    "            break  # Stop the scan to exit infinite loop\n",
    "    \n",
    "    \n",
    "    #  Sometimes the sensor doesn't read all angles (unfortunately that's how it works)\n",
    "    #  so we must add those missing values as the previous sensor readings \n",
    "    #  to avoid having a dictionary with missing values\n",
    "    for key in previous_readings.keys():\n",
    "        try:\n",
    "            if readings[key]: \n",
    "                previous_readings[key]=readings[key]\n",
    "        except:\n",
    "            continue\n",
    "\n",
    "    lidar.stop()        # Stop the sensor to be able to read it again\n",
    "    lidar.disconnect()  # Stop the sensor to be able to read it again\n",
    "    return previous_readings\n"
   ]
  },
  {
   "cell_type": "code",
   "execution_count": 3,
   "metadata": {},
   "outputs": [
    {
     "name": "stdout",
     "output_type": "stream",
     "text": [
      "{0: 3147, 30: 1164, 60: 0, 90: 660, 120: 303, 150: 315, 180: 0}\n",
      "{0: 3245, 30: 1164, 60: 0, 90: 661, 120: 303, 150: 315, 180: 0}\n",
      "{0: 3345, 30: 1162, 60: 0, 90: 661, 120: 303, 150: 315, 180: 0}\n",
      "{0: 3275, 30: 1165, 60: 0, 90: 661, 120: 303, 150: 323, 180: 0}\n",
      "{0: 3275, 30: 1165, 60: 0, 90: 665, 120: 301, 150: 320, 180: 0}\n",
      "{0: 3129, 30: 1170, 60: 0, 90: 662, 120: 301, 150: 320, 180: 0}\n",
      "{0: 252, 30: 1170, 60: 0, 90: 662, 120: 301, 150: 320, 180: 0}\n",
      "{0: 174, 30: 1170, 60: 0, 90: 138, 120: 301, 150: 320, 180: 195}\n",
      "{0: 174, 30: 193, 60: 213, 90: 138, 120: 301, 150: 317, 180: 324}\n",
      "{0: 174, 30: 142, 60: 137, 90: 138, 120: 209, 150: 317, 180: 324}\n",
      "{0: 207, 30: 144, 60: 141, 90: 166, 120: 197, 150: 317, 180: 245}\n",
      "{0: 207, 30: 1156, 60: 141, 90: 663, 120: 294, 150: 317, 180: 245}\n",
      "{0: 207, 30: 1156, 60: 141, 90: 662, 120: 301, 150: 317, 180: 245}\n",
      "{0: 3136, 30: 1168, 60: 141, 90: 662, 120: 294, 150: 317, 180: 245}\n",
      "{0: 3356, 30: 1152, 60: 141, 90: 662, 120: 303, 150: 317, 180: 245}\n",
      "{0: 3222, 30: 1165, 60: 141, 90: 661, 120: 303, 150: 317, 180: 245}\n",
      "{0: 3342, 30: 1155, 60: 141, 90: 661, 120: 294, 150: 312, 180: 245}\n",
      "{0: 3342, 30: 1155, 60: 141, 90: 663, 120: 294, 150: 312, 180: 245}\n",
      "{0: 3342, 30: 1149, 60: 141, 90: 663, 120: 294, 150: 315, 180: 245}\n",
      "{0: 3342, 30: 1149, 60: 141, 90: 663, 120: 294, 150: 315, 180: 245}\n",
      "{0: 3342, 30: 1149, 60: 141, 90: 663, 120: 294, 150: 315, 180: 245}\n",
      "{0: 3346, 30: 1154, 60: 141, 90: 663, 120: 294, 150: 315, 180: 245}\n",
      "{0: 3142, 30: 1168, 60: 141, 90: 661, 120: 307, 150: 315, 180: 245}\n",
      "{0: 3142, 30: 1173, 60: 141, 90: 662, 120: 307, 150: 315, 180: 245}\n",
      "{0: 3142, 30: 1149, 60: 141, 90: 663, 120: 294, 150: 315, 180: 245}\n",
      "{0: 3342, 30: 1149, 60: 141, 90: 663, 120: 294, 150: 315, 180: 245}\n",
      "{0: 3342, 30: 1149, 60: 141, 90: 662, 120: 294, 150: 315, 180: 245}\n",
      "{0: 3132, 30: 1168, 60: 141, 90: 660, 120: 304, 150: 315, 180: 245}\n",
      "{0: 3348, 30: 1157, 60: 141, 90: 660, 120: 304, 150: 315, 180: 245}\n",
      "{0: 3316, 30: 1155, 60: 141, 90: 663, 120: 304, 150: 320, 180: 245}\n",
      "{0: 3317, 30: 1162, 60: 141, 90: 661, 120: 303, 150: 306, 180: 245}\n",
      "{0: 3130, 30: 1172, 60: 141, 90: 662, 120: 303, 150: 306, 180: 245}\n",
      "{0: 3341, 30: 1154, 60: 141, 90: 662, 120: 294, 150: 306, 180: 245}\n",
      "{0: 3323, 30: 1160, 60: 141, 90: 660, 120: 294, 150: 306, 180: 245}\n",
      "{0: 3127, 30: 1169, 60: 141, 90: 661, 120: 294, 150: 306, 180: 245}\n",
      "{0: 3348, 30: 1149, 60: 141, 90: 662, 120: 301, 150: 315, 180: 245}\n",
      "{0: 3341, 30: 1149, 60: 141, 90: 663, 120: 301, 150: 315, 180: 245}\n",
      "{0: 3135, 30: 1169, 60: 141, 90: 663, 120: 301, 150: 315, 180: 245}\n",
      "{0: 3346, 30: 1157, 60: 141, 90: 663, 120: 294, 150: 323, 180: 245}\n",
      "{0: 3316, 30: 1162, 60: 141, 90: 661, 120: 294, 150: 323, 180: 245}\n",
      "{0: 3138, 30: 1168, 60: 141, 90: 661, 120: 303, 150: 323, 180: 245}\n",
      "{0: 3192, 30: 1168, 60: 141, 90: 662, 120: 301, 150: 323, 180: 245}\n",
      "{0: 3235, 30: 1165, 60: 141, 90: 662, 120: 304, 150: 323, 180: 245}\n",
      "{0: 3145, 30: 1169, 60: 141, 90: 663, 120: 304, 150: 323, 180: 245}\n",
      "{0: 3140, 30: 1168, 60: 141, 90: 663, 120: 303, 150: 323, 180: 245}\n",
      "{0: 3135, 30: 1168, 60: 141, 90: 663, 120: 303, 150: 323, 180: 245}\n",
      "{0: 3189, 30: 1164, 60: 141, 90: 664, 120: 294, 150: 323, 180: 245}\n",
      "{0: 3132, 30: 1167, 60: 141, 90: 663, 120: 294, 150: 323, 180: 245}\n",
      "{0: 3131, 30: 1168, 60: 141, 90: 663, 120: 294, 150: 323, 180: 245}\n",
      "{0: 3346, 30: 1159, 60: 141, 90: 661, 120: 305, 150: 323, 180: 245}\n"
     ]
    }
   ],
   "source": [
    "for _ in range (50):\n",
    "    print(read_lidar_wrapper(angles,lidar,previous_readings))"
   ]
  }
 ],
 "metadata": {
  "kernelspec": {
   "display_name": "Python 3",
   "language": "python",
   "name": "python3"
  },
  "language_info": {
   "codemirror_mode": {
    "name": "ipython",
    "version": 3
   },
   "file_extension": ".py",
   "mimetype": "text/x-python",
   "name": "python",
   "nbconvert_exporter": "python",
   "pygments_lexer": "ipython3",
   "version": "3.6.9"
  }
 },
 "nbformat": 4,
 "nbformat_minor": 4
}
