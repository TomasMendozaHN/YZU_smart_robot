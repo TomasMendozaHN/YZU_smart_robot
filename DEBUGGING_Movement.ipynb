{
 "cells": [
  {
   "cell_type": "code",
   "execution_count": null,
   "metadata": {},
   "outputs": [],
   "source": [
    "%run DEBUGGING_Angle.ipynb\n",
    "%run DEBUGGING_Lidar.ipynb"
   ]
  },
  {
   "cell_type": "code",
   "execution_count": null,
   "metadata": {},
   "outputs": [],
   "source": [
    "import ipywidgets.widgets as widgets\n",
    "from IPython.display import display\n",
    "from jetbot import Robot\n",
    "import time"
   ]
  },
  {
   "cell_type": "markdown",
   "metadata": {},
   "source": [
    "# Parameters for Output Information"
   ]
  },
  {
   "cell_type": "code",
   "execution_count": null,
   "metadata": {},
   "outputs": [],
   "source": [
    "# Set to True if you also want to also visualize Stage\n",
    "visualize_stage=True\n",
    "\n",
    "# Set to True if you also want to read Lidar\n",
    "visualize_lidar=True\n",
    "\n",
    "# Define what directions you want LiDAR to measure\n",
    "angles = [180, 0]\n",
    "\n",
    "# Initialize all sensor readings to 0\n",
    "previous_readings = {x:0 for x in angles} "
   ]
  },
  {
   "cell_type": "markdown",
   "metadata": {},
   "source": [
    "# Define Robot & the movements"
   ]
  },
  {
   "cell_type": "code",
   "execution_count": null,
   "metadata": {},
   "outputs": [],
   "source": [
    "robot = Robot()"
   ]
  },
  {
   "cell_type": "code",
   "execution_count": null,
   "metadata": {},
   "outputs": [],
   "source": [
    "def forward(change):\n",
    "    robot.forward(speed_move)\n",
    "    time.sleep(time_move)\n",
    "    robot.stop()\n",
    "    \n",
    "def backward(change):\n",
    "    robot.backward(speed_move)\n",
    "    time.sleep(time_move)\n",
    "    robot.stop()\n",
    "    \n",
    "def left(change):\n",
    "    robot.left(speed_rotate)\n",
    "    time.sleep(time_rotate)\n",
    "    robot.stop()\n",
    "    \n",
    "def right(change):\n",
    "    robot.right(speed_rotate)\n",
    "    time.sleep(time_rotate)\n",
    "    robot.stop()\n",
    "    \n",
    "def stop(change):\n",
    "    robot.stop()"
   ]
  },
  {
   "cell_type": "markdown",
   "metadata": {},
   "source": [
    "# Define Widgets Background Colors & Style (HTML)"
   ]
  },
  {
   "cell_type": "code",
   "execution_count": null,
   "metadata": {},
   "outputs": [],
   "source": [
    "%%html\n",
    "<style>\n",
    ".delay_controllers_style{\n",
    "    width:auto;\n",
    "    border : 1px solid black;\n",
    "    height: auto;\n",
    "    background-color:Lavender;\n",
    "}\n",
    "\n",
    ".speed_controllers_style{\n",
    "    width:auto;\n",
    "    border : 1px solid black;\n",
    "    height: auto;\n",
    "    background-color:PaleTurquoise;\n",
    "}\n",
    "\n",
    "</style>"
   ]
  },
  {
   "cell_type": "markdown",
   "metadata": {},
   "source": [
    "# Display Widgets and run everything!"
   ]
  },
  {
   "cell_type": "code",
   "execution_count": null,
   "metadata": {},
   "outputs": [],
   "source": [
    "''' Speed Sliders'''\n",
    "# create two speed sliders \n",
    "speed_move_slider = widgets.FloatSlider(description='Move', min=0.35, max=1.0, step=0.01, orientation='vertical')\n",
    "speed_rotate_slider = widgets.FloatSlider(description='Turn', min=0.35, max=1.0, step=0.01, orientation='vertical')\n",
    "\n",
    "# put sliders in a widget\n",
    "slider_container = widgets.HBox([speed_move_slider, speed_rotate_slider])\n",
    "label = widgets.Label(value=\"Speed Controllers\", layout=widgets.Layout(align_self='center'))\n",
    "sliders = widgets.VBox([label, slider_container])\n",
    "sliders.add_class(\"speed_controllers_style\")\n",
    "\n",
    "\n",
    "''' Engine time sliders'''\n",
    "# create two time sliders\n",
    "time_move_slider = widgets.FloatSlider(description='Move', min=0.1, max=2.0, step=0.1, orientation='vertical')\n",
    "time_rotate_slider = widgets.FloatSlider(description='Turn', min=0.1, max=2.0, step=0.1, orientation='vertical')\n",
    "\n",
    "# put sliders in a widget\n",
    "time_slider_container = widgets.HBox([time_move_slider, time_rotate_slider])\n",
    "label = widgets.Label(value=\"Delay Controllers\", layout=widgets.Layout(align_self='center'))\n",
    "time_sliders = widgets.VBox([label, time_slider_container])\n",
    "time_sliders.add_class(\"delay_controllers_style\")\n",
    "\n",
    "\n",
    "''' Robot movement control buttons'''\n",
    "# create buttons to control robot\n",
    "button_layout = widgets.Layout(width='100px', height='80px', align_self='center')\n",
    "stop_button = widgets.Button(description='stop', button_style='danger', layout=button_layout)\n",
    "forward_button = widgets.Button(description='forward', layout=button_layout)\n",
    "backward_button = widgets.Button(description='backward', layout=button_layout)\n",
    "left_button = widgets.Button(description='left', layout=button_layout)\n",
    "right_button = widgets.Button(description='right', layout=button_layout)\n",
    "\n",
    "# put buttons in a widget\n",
    "middle_box = widgets.HBox([left_button, stop_button, right_button], layout=widgets.Layout(align_self='center'))\n",
    "controls_box = widgets.VBox([forward_button, middle_box, backward_button])\n",
    "\n",
    "''' Image Widget'''\n",
    "# Image \n",
    "image_w = ipywidgets.Image(format='jpeg', width=WIDTH, height=HEIGHT)\n",
    "\n",
    "global out\n",
    "out = widgets.HTML() # Only an HTML widget can update text in a thread!\n",
    "\n",
    "''' Join all widgets into a single HBox'''\n",
    "\n",
    "# Visualize the whole thing (sliders + buttons)\n",
    "final = widgets.HBox([controls_box, image_w, sliders, time_sliders, out], layout=widgets.Layout(width='100%', align_self='center'))\n",
    "display(final)\n",
    "\n",
    "# Upate speed when you move sliders\n",
    "global speed_move\n",
    "global speed_rotate\n",
    "global time_move\n",
    "global time_rotate\n",
    "\n",
    "speed_move = speed_move_slider.value\n",
    "speed_rotate = speed_rotate_slider.value\n",
    "time_move = time_move_slider.value\n",
    "time_rotate = time_rotate_slider.value\n",
    "\n",
    "def on_change_speed(v):\n",
    "    global speed_move\n",
    "    speed_move = v['new'] \n",
    "    \n",
    "def on_change_rotate(v):\n",
    "    global speed_rotate\n",
    "    speed_rotate = v['new']\n",
    "    \n",
    "def on_change_time_move(v):\n",
    "    global time_move\n",
    "    time_move = v['new'] \n",
    "    \n",
    "def on_change_time_rotate(v):\n",
    "    global time_rotate\n",
    "    time_rotate = v['new']\n",
    "\n",
    "    \n",
    "speed_move_slider.observe(on_change_speed, names='value')\n",
    "speed_rotate_slider.observe(on_change_rotate, names='value')\n",
    "\n",
    "time_move_slider.observe(on_change_time_move, names='value')\n",
    "time_rotate_slider.observe(on_change_time_rotate, names='value')\n",
    "\n",
    "# link buttons to actions\n",
    "stop_button.on_click(stop)\n",
    "forward_button.on_click(forward)\n",
    "backward_button.on_click(backward)\n",
    "left_button.on_click(left)\n",
    "right_button.on_click(right)\n",
    "\n",
    "execute({'new': camera.value})\n",
    "camera.observe(execute, names='value')"
   ]
  },
  {
   "cell_type": "code",
   "execution_count": null,
   "metadata": {},
   "outputs": [],
   "source": []
  }
 ],
 "metadata": {
  "kernelspec": {
   "display_name": "Python 3",
   "language": "python",
   "name": "python3"
  },
  "language_info": {
   "codemirror_mode": {
    "name": "ipython",
    "version": 3
   },
   "file_extension": ".py",
   "mimetype": "text/x-python",
   "name": "python",
   "nbconvert_exporter": "python",
   "pygments_lexer": "ipython3",
   "version": "3.6.9"
  }
 },
 "nbformat": 4,
 "nbformat_minor": 4
}
