{
 "cells": [
  {
   "cell_type": "code",
   "execution_count": null,
   "metadata": {},
   "outputs": [],
   "source": [
    "import getpass\n",
    "import os\n",
    "\n",
    "password = 'jetbot'\n",
    "command = \"sudo -S systemctl restart nvargus-daemon\" #can be any command but don't forget -S as it enables input from stdin\n",
    "os.system('echo %s | %s' % (password, command))"
   ]
  },
  {
   "cell_type": "code",
   "execution_count": null,
   "metadata": {},
   "outputs": [],
   "source": [
    "run Keypoints_RCNN.ipynb"
   ]
  },
  {
   "cell_type": "code",
   "execution_count": null,
   "metadata": {},
   "outputs": [],
   "source": [
    "def estimating_phase(keypoints):\n",
    "    '''\n",
    "    Estimates the phase based on the skeleton parts detected:\n",
    "    \n",
    "    Phase 1: Knees and ankles are detected.\n",
    "    Phase 2: Skeleton is detected but one of the knees or ankles is missing (obstructed by obstacle).\n",
    "    Phase 3: No skeleton is detected.\n",
    "    \n",
    "    '''\n",
    "    \n",
    "    \n",
    "    # If camera detects skeleton\n",
    "    if keypoints.values():\n",
    "        \n",
    "        leg_parts = [\"left_knee\", \"right_knee\", \"left_ankle\", \"right_ankle\"] \n",
    "        obstructed = [x for x in leg_parts if x not in keypoints.keys()]\n",
    "        \n",
    "        # If legs are obstructed\n",
    "        if obstructed:\n",
    "            return 2\n",
    "        \n",
    "        else:\n",
    "            return 1\n",
    "            \n",
    "    # No skeleton detected\n",
    "    else:\n",
    "        return 3"
   ]
  },
  {
   "cell_type": "code",
   "execution_count": null,
   "metadata": {
    "scrolled": true
   },
   "outputs": [],
   "source": [
    "import ipywidgets\n",
    "import time\n",
    "from IPython.display import display\n",
    "\n",
    "image_w = ipywidgets.Image(format='jpeg')\n",
    "display(image_w)\n",
    "\n",
    "\n",
    "while (True):\n",
    "    keypoints, image, counts, objects, peaks = execute({'new': camera.value})\n",
    "    print(f\"Phase: {estimating_phase(keypoints)}\")\n",
    "    draw_objects(image, counts, objects, peaks)\n",
    "    image_w.value = bgr8_to_jpeg(image[:, ::-1, :])\n",
    "    time.sleep(1)"
   ]
  }
 ],
 "metadata": {
  "kernelspec": {
   "display_name": "Python 3",
   "language": "python",
   "name": "python3"
  },
  "language_info": {
   "codemirror_mode": {
    "name": "ipython",
    "version": 3
   },
   "file_extension": ".py",
   "mimetype": "text/x-python",
   "name": "python",
   "nbconvert_exporter": "python",
   "pygments_lexer": "ipython3",
   "version": "3.6.9"
  }
 },
 "nbformat": 4,
 "nbformat_minor": 4
}
