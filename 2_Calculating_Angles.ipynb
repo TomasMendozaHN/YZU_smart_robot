{
 "cells": [
  {
   "cell_type": "code",
   "execution_count": null,
   "metadata": {},
   "outputs": [],
   "source": [
    "import getpass\n",
    "import os\n",
    "\n",
    "password = 'jetbot'\n",
    "command = \"sudo -S systemctl restart nvargus-daemon\" #can be any command but don't forget -S as it enables input from stdin\n",
    "os.system('echo %s | %s' % (password, command))"
   ]
  },
  {
   "cell_type": "code",
   "execution_count": null,
   "metadata": {},
   "outputs": [],
   "source": [
    "run Keypoints_RCNN.ipynb"
   ]
  },
  {
   "cell_type": "code",
   "execution_count": null,
   "metadata": {},
   "outputs": [],
   "source": [
    "def calculate_angle(WIDTH, keypoints, FOV=160):\n",
    "    '''\n",
    "    Arguments:\n",
    "        + Image width\n",
    "        + Dictionary of keypoints\n",
    "        + Field of vision of camera (in degrees). Default = 160 if using CSI camera with fish-eye lens\n",
    "        \n",
    "    Returns:\n",
    "        + Angle at which the object is located from respect to the center    \n",
    "    '''\n",
    "    \n",
    "    keys = keypoints.values()\n",
    "    object_location = int(sum([x for x,y in keys])/len(keys))\n",
    "    angle = int(-FOV*(WIDTH/2 - object_location)/WIDTH)\n",
    "    return angle"
   ]
  },
  {
   "cell_type": "code",
   "execution_count": null,
   "metadata": {},
   "outputs": [],
   "source": [
    "import ipywidgets\n",
    "import time\n",
    "from IPython.display import display\n",
    "\n",
    "image_w = ipywidgets.Image(format='jpeg')\n",
    "display(image_w)\n",
    "\n",
    "out = ipywidgets.Output(layout={'border': '1px solid black'})\n",
    "display(out)\n",
    "\n",
    "while (True):\n",
    "    keypoints, image, counts, objects, peaks = execute({'new': camera.value})\n",
    "    angle = calculate_angle(WIDTH, keypoints)\n",
    "    with out:\n",
    "        out.clear_output()\n",
    "        print(f'Object is at angle: {angle}')\n",
    "    draw_objects(image, counts, objects, peaks)\n",
    "    image_w.value = bgr8_to_jpeg(image[:, ::-1, :])\n",
    "    time.sleep(0.05)\n"
   ]
  },
  {
   "cell_type": "code",
   "execution_count": null,
   "metadata": {},
   "outputs": [],
   "source": []
  }
 ],
 "metadata": {
  "kernelspec": {
   "display_name": "Python 3",
   "language": "python",
   "name": "python3"
  },
  "language_info": {
   "codemirror_mode": {
    "name": "ipython",
    "version": 3
   },
   "file_extension": ".py",
   "mimetype": "text/x-python",
   "name": "python",
   "nbconvert_exporter": "python",
   "pygments_lexer": "ipython3",
   "version": "3.6.9"
  }
 },
 "nbformat": 4,
 "nbformat_minor": 4
}
