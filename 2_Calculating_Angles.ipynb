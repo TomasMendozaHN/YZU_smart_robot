{
 "cells": [
  {
   "cell_type": "code",
   "execution_count": null,
   "metadata": {},
   "outputs": [],
   "source": [
    "# run Keypoints_RCNN.ipynb"
   ]
  },
  {
   "cell_type": "code",
   "execution_count": null,
   "metadata": {},
   "outputs": [],
   "source": [
    "def calculate_angle(WIDTH, keypoints, FOV=160):\n",
    "    '''\n",
    "    Arguments:\n",
    "        + Image width\n",
    "        + Dictionary of keypoints\n",
    "        + Field of vision of camera (in degrees). Default = 160 if using CSI camera with fish-eye lens\n",
    "        \n",
    "    Returns:\n",
    "        + Angle at which the object is located from respect to the center    \n",
    "    '''\n",
    "    \n",
    "    keys = keypoints.values()\n",
    "    \n",
    "    # if at least 2 points are detected\n",
    "    if len(keys) > 1:  \n",
    "        object_location = int(sum([x for x,y in keys])/len(keys))\n",
    "        angle = int(-FOV*(WIDTH/2 - object_location)/WIDTH)\n",
    "        return [angle], keypoints\n",
    "    \n",
    "    \n",
    "    else:\n",
    "        return [-1], keypoints"
   ]
  },
  {
   "cell_type": "code",
   "execution_count": null,
   "metadata": {},
   "outputs": [],
   "source": [
    "# import ipywidgets\n",
    "# import time\n",
    "# from IPython.display import display\n",
    "\n",
    "# image_w = ipywidgets.Image(format='jpeg')\n",
    "# display(image_w)\n",
    "\n",
    "\n",
    "\n",
    "# out = ipywidgets.Output(layout={'border': '1px solid black'})\n",
    "# display(out)\n",
    "\n",
    "# while (True):\n",
    "#     keypoints, image, counts, objects, peaks = execute({'new': camera.value})\n",
    "# #     camera.observe(execute, names='value')\n",
    "#     angle, _ = calculate_angle(WIDTH, keypoints)\n",
    "#     with out:\n",
    "#         out.clear_output()\n",
    "#         print(f'Object is at angle: {angle}', end=\"\\x1b[2K\\r\")\n",
    "# #     draw_objects(image, counts, objects, peaks)\n",
    "# #     image_w.value = bgr8_to_jpeg(image[:, ::-1, :])\n",
    "    \n",
    "#     time.sleep(0.05)\n"
   ]
  },
  {
   "cell_type": "code",
   "execution_count": null,
   "metadata": {},
   "outputs": [],
   "source": []
  }
 ],
 "metadata": {
  "kernelspec": {
   "display_name": "Python 3",
   "language": "python",
   "name": "python3"
  },
  "language_info": {
   "codemirror_mode": {
    "name": "ipython",
    "version": 3
   },
   "file_extension": ".py",
   "mimetype": "text/x-python",
   "name": "python",
   "nbconvert_exporter": "python",
   "pygments_lexer": "ipython3",
   "version": "3.6.9"
  }
 },
 "nbformat": 4,
 "nbformat_minor": 4
}
