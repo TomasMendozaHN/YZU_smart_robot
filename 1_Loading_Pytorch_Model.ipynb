{
 "cells": [
  {
   "cell_type": "code",
   "execution_count": 1,
   "metadata": {},
   "outputs": [],
   "source": [
    "import torch\n",
    "from jetbot import Robot"
   ]
  },
  {
   "cell_type": "code",
   "execution_count": 10,
   "metadata": {},
   "outputs": [
    {
     "name": "stdout",
     "output_type": "stream",
     "text": [
      "cuda NVIDIA Tegra X1\n"
     ]
    }
   ],
   "source": [
    "if(torch.cuda.is_available()):\n",
    "    device = torch.device(\"cuda\")\n",
    "    print(device, torch.cuda.get_device_name(0))\n",
    "else:\n",
    "    device= torch.device(\"cpu\")\n",
    "    print(device)"
   ]
  },
  {
   "cell_type": "code",
   "execution_count": 34,
   "metadata": {},
   "outputs": [
    {
     "data": {
      "text/plain": [
       "tensor([[0., 0., 0., 0., 0., 0., 0., 0., 0., 0., 0., 0., 0., 0., 0., 0., 0., 0., 0., 0., 0., 0.]])"
      ]
     },
     "execution_count": 34,
     "metadata": {},
     "output_type": "execute_result"
    }
   ],
   "source": [
    "data = torch.zeros((1, 22))\n",
    "data"
   ]
  },
  {
   "cell_type": "code",
   "execution_count": 35,
   "metadata": {
    "scrolled": false
   },
   "outputs": [
    {
     "data": {
      "text/plain": [
       "SeparateActorCritic(\n",
       "  (network_body): NetworkBody(\n",
       "    (visual_processors): ModuleList()\n",
       "    (vector_processors): ModuleList(\n",
       "      (0): VectorInput(\n",
       "        (normalizer): Normalizer()\n",
       "      )\n",
       "    )\n",
       "    (linear_encoder): LinearEncoder(\n",
       "      (seq_layers): Sequential(\n",
       "        (0): Linear(in_features=22, out_features=128, bias=True)\n",
       "        (1): Swish()\n",
       "      )\n",
       "    )\n",
       "  )\n",
       "  (distribution): GaussianDistribution(\n",
       "    (mu): Linear(in_features=128, out_features=2, bias=True)\n",
       "  )\n",
       "  (critic): ValueNetwork(\n",
       "    (network_body): NetworkBody(\n",
       "      (visual_processors): ModuleList()\n",
       "      (vector_processors): ModuleList(\n",
       "        (0): VectorInput(\n",
       "          (normalizer): Normalizer()\n",
       "        )\n",
       "      )\n",
       "      (linear_encoder): LinearEncoder(\n",
       "        (seq_layers): Sequential(\n",
       "          (0): Linear(in_features=22, out_features=128, bias=True)\n",
       "          (1): Swish()\n",
       "        )\n",
       "      )\n",
       "    )\n",
       "    (value_heads): ValueHeads(\n",
       "      (value_heads): ModuleDict(\n",
       "        (extrinsic): Linear(in_features=128, out_features=1, bias=True)\n",
       "      )\n",
       "    )\n",
       "  )\n",
       ")"
      ]
     },
     "execution_count": 35,
     "metadata": {},
     "output_type": "execute_result"
    }
   ],
   "source": [
    "model = torch.load(\"George-1-128.pth\")\n",
    "model.eval()\n",
    "model.to(device)"
   ]
  },
  {
   "cell_type": "code",
   "execution_count": 46,
   "metadata": {},
   "outputs": [],
   "source": [
    "hidden,_ = model.network_body(vis_inputs=[0],vec_inputs=[data.to(device)])\n",
    "distribution = model.distribution(hidden)\n",
    "action = distribution.sample()"
   ]
  },
  {
   "cell_type": "code",
   "execution_count": null,
   "metadata": {},
   "outputs": [],
   "source": []
  },
  {
   "cell_type": "code",
   "execution_count": 47,
   "metadata": {},
   "outputs": [
    {
     "name": "stdout",
     "output_type": "stream",
     "text": [
      "tensor([[2.3724, 5.6187]], grad_fn=<AddBackward0>)\n"
     ]
    }
   ],
   "source": [
    "print(action)"
   ]
  },
  {
   "cell_type": "code",
   "execution_count": 48,
   "metadata": {},
   "outputs": [
    {
     "data": {
      "text/plain": [
       "array([[2.3723712, 5.618699 ]], dtype=float32)"
      ]
     },
     "execution_count": 48,
     "metadata": {},
     "output_type": "execute_result"
    }
   ],
   "source": [
    "action = (action).detach().cpu().numpy()\n",
    "action"
   ]
  },
  {
   "cell_type": "code",
   "execution_count": 52,
   "metadata": {},
   "outputs": [
    {
     "data": {
      "text/plain": [
       "(0.4744742393493652, 1.1237398147583009)"
      ]
     },
     "execution_count": 52,
     "metadata": {},
     "output_type": "execute_result"
    }
   ],
   "source": [
    "forward = action[0][0]/5\n",
    "angle = action[0][1]/5\n",
    "\n",
    "forward,angle"
   ]
  },
  {
   "cell_type": "code",
   "execution_count": 50,
   "metadata": {},
   "outputs": [],
   "source": [
    "import time\n",
    "robot = Robot()\n",
    "\n",
    "robot.forward(0.5)\n",
    "time.sleep(forward)\n",
    "robot.stop()"
   ]
  },
  {
   "cell_type": "code",
   "execution_count": 53,
   "metadata": {},
   "outputs": [],
   "source": [
    "robot.right(0.5)\n",
    "time.sleep(angle)\n",
    "robot.stop()"
   ]
  },
  {
   "cell_type": "code",
   "execution_count": 6,
   "metadata": {},
   "outputs": [],
   "source": [
    "results,_ = model.critic(vec_inputs=[data], vis_inputs=[0])"
   ]
  },
  {
   "cell_type": "code",
   "execution_count": 7,
   "metadata": {},
   "outputs": [
    {
     "name": "stdout",
     "output_type": "stream",
     "text": [
      "{'extrinsic': tensor([-2.9442], grad_fn=<SqueezeBackward1>)}\n"
     ]
    }
   ],
   "source": [
    "print(results)"
   ]
  },
  {
   "cell_type": "code",
   "execution_count": null,
   "metadata": {},
   "outputs": [],
   "source": []
  }
 ],
 "metadata": {
  "kernelspec": {
   "display_name": "Python 3",
   "language": "python",
   "name": "python3"
  },
  "language_info": {
   "codemirror_mode": {
    "name": "ipython",
    "version": 3
   },
   "file_extension": ".py",
   "mimetype": "text/x-python",
   "name": "python",
   "nbconvert_exporter": "python",
   "pygments_lexer": "ipython3",
   "version": "3.6.9"
  }
 },
 "nbformat": 4,
 "nbformat_minor": 4
}
