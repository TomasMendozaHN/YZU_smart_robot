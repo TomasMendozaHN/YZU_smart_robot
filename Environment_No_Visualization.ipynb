{
 "cells": [
  {
   "cell_type": "code",
   "execution_count": 1,
   "id": "interesting-kitty",
   "metadata": {},
   "outputs": [
    {
     "name": "stderr",
     "output_type": "stream",
     "text": [
      "Matplotlib created a temporary config/cache directory at /tmp/matplotlib-qk6dk6tl because the default path (/home/jetbot/.cache/matplotlib) is not a writable directory; it is highly recommended to set the MPLCONFIGDIR environment variable to a writable directory, in particular to speed up the import of Matplotlib and to better support multiprocessing.\n",
      "Matplotlib is building the font cache; this may take a moment.\n"
     ]
    }
   ],
   "source": [
    "%run Scripts/Read_RP_Lidar.ipynb\n",
    "%run Scripts/Estimate_stages.ipynb\n",
    "%run Scripts/Calculate_Angles.ipynb\n",
    "%run Scripts/Env_Class.ipynb\n",
    "%run Keypoints_RCNN.ipynb"
   ]
  },
  {
   "cell_type": "markdown",
   "id": "black-cocktail",
   "metadata": {},
   "source": [
    "# Load Model"
   ]
  },
  {
   "cell_type": "code",
   "execution_count": 2,
   "id": "logical-labor",
   "metadata": {},
   "outputs": [
    {
     "data": {
      "text/plain": [
       "SeparateActorCritic(\n",
       "  (network_body): NetworkBody(\n",
       "    (visual_processors): ModuleList()\n",
       "    (vector_processors): ModuleList(\n",
       "      (0): VectorInput(\n",
       "        (normalizer): Normalizer()\n",
       "      )\n",
       "    )\n",
       "    (linear_encoder): LinearEncoder(\n",
       "      (seq_layers): Sequential(\n",
       "        (0): Linear(in_features=22, out_features=128, bias=True)\n",
       "        (1): Swish()\n",
       "      )\n",
       "    )\n",
       "  )\n",
       "  (distribution): GaussianDistribution(\n",
       "    (mu): Linear(in_features=128, out_features=2, bias=True)\n",
       "  )\n",
       "  (critic): ValueNetwork(\n",
       "    (network_body): NetworkBody(\n",
       "      (visual_processors): ModuleList()\n",
       "      (vector_processors): ModuleList(\n",
       "        (0): VectorInput(\n",
       "          (normalizer): Normalizer()\n",
       "        )\n",
       "      )\n",
       "      (linear_encoder): LinearEncoder(\n",
       "        (seq_layers): Sequential(\n",
       "          (0): Linear(in_features=22, out_features=128, bias=True)\n",
       "          (1): Swish()\n",
       "        )\n",
       "      )\n",
       "    )\n",
       "    (value_heads): ValueHeads(\n",
       "      (value_heads): ModuleDict(\n",
       "        (extrinsic): Linear(in_features=128, out_features=1, bias=True)\n",
       "      )\n",
       "    )\n",
       "  )\n",
       ")"
      ]
     },
     "execution_count": 2,
     "metadata": {},
     "output_type": "execute_result"
    }
   ],
   "source": [
    "model = torch.load(\"Files/George-1-128.pth\")\n",
    "model.eval()"
   ]
  },
  {
   "cell_type": "markdown",
   "id": "desperate-mason",
   "metadata": {},
   "source": [
    "# Define Angles"
   ]
  },
  {
   "cell_type": "code",
   "execution_count": 3,
   "id": "useful-technique",
   "metadata": {},
   "outputs": [],
   "source": [
    "angles = [x for x in range(0,180,10)]"
   ]
  },
  {
   "cell_type": "markdown",
   "id": "sticky-selection",
   "metadata": {},
   "source": [
    "# Initialize Robot"
   ]
  },
  {
   "cell_type": "code",
   "execution_count": 4,
   "id": "french-brown",
   "metadata": {},
   "outputs": [],
   "source": [
    "from jetbot import Robot\n",
    "import time\n",
    "robot = Robot()"
   ]
  },
  {
   "cell_type": "markdown",
   "id": "golden-brand",
   "metadata": {},
   "source": [
    "# Initialize Environment Class"
   ]
  },
  {
   "cell_type": "code",
   "execution_count": 5,
   "id": "leading-reconstruction",
   "metadata": {},
   "outputs": [],
   "source": [
    "env = Environment(model, angles, robot)"
   ]
  },
  {
   "cell_type": "markdown",
   "id": "sensitive-cambridge",
   "metadata": {},
   "source": [
    "# Verify everything works"
   ]
  },
  {
   "cell_type": "code",
   "execution_count": 6,
   "id": "connected-america",
   "metadata": {},
   "outputs": [
    {
     "name": "stdout",
     "output_type": "stream",
     "text": [
      "[0, 1, 0, -22, 0, 0, 0, 0, 0, 0, 0, 0, 0, 0, 0, 0, 0, 0, 1477, 1513, 885, 0]\n"
     ]
    }
   ],
   "source": [
    "observation = env.observe()\n",
    "print(observation)"
   ]
  },
  {
   "cell_type": "code",
   "execution_count": 7,
   "id": "loved-documentation",
   "metadata": {},
   "outputs": [
    {
     "data": {
      "text/plain": [
       "tensor([[2.6394, 0.5218]], grad_fn=<AddBackward0>)"
      ]
     },
     "execution_count": 7,
     "metadata": {},
     "output_type": "execute_result"
    }
   ],
   "source": [
    "action = env.sample_action(observation)\n",
    "action"
   ]
  },
  {
   "cell_type": "code",
   "execution_count": 8,
   "id": "pressing-swedish",
   "metadata": {},
   "outputs": [],
   "source": [
    "env.step(action)"
   ]
  }
 ],
 "metadata": {
  "kernelspec": {
   "display_name": "Python 3",
   "language": "python",
   "name": "python3"
  },
  "language_info": {
   "codemirror_mode": {
    "name": "ipython",
    "version": 3
   },
   "file_extension": ".py",
   "mimetype": "text/x-python",
   "name": "python",
   "nbconvert_exporter": "python",
   "pygments_lexer": "ipython3",
   "version": "3.6.9"
  }
 },
 "nbformat": 4,
 "nbformat_minor": 5
}
