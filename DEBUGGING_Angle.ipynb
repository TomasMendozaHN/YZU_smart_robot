{
 "cells": [
  {
   "cell_type": "markdown",
   "id": "94a2a962",
   "metadata": {},
   "source": [
    "# Define Variables"
   ]
  },
  {
   "cell_type": "code",
   "execution_count": 1,
   "id": "0156fef1",
   "metadata": {},
   "outputs": [],
   "source": [
    "# Define the FOV of the camera\n",
    "FOV = 160  # CSI Camera = 160 degrees\n",
    "\n",
    "# KeyPoints TRT Model Path\n",
    "OPTIMIZED_MODEL = 'Files/resnet18_baseline_att_224x224_A_epoch_249_trt.pth'"
   ]
  },
  {
   "cell_type": "markdown",
   "id": "d53c6dc8",
   "metadata": {},
   "source": [
    "# Reset the camera"
   ]
  },
  {
   "cell_type": "code",
   "execution_count": 2,
   "id": "9290d3b2",
   "metadata": {},
   "outputs": [
    {
     "data": {
      "text/plain": [
       "0"
      ]
     },
     "execution_count": 2,
     "metadata": {},
     "output_type": "execute_result"
    }
   ],
   "source": [
    "import getpass\n",
    "import os\n",
    "\n",
    "# Reset Camera\n",
    "password = 'jetbot'\n",
    "command = \"sudo -S systemctl restart nvargus-daemon\" #can be any command but don't forget -S as it enables input from stdin\n",
    "os.system('echo %s | %s' % (password, command))"
   ]
  },
  {
   "cell_type": "markdown",
   "id": "26d4ce28",
   "metadata": {},
   "source": [
    "# Load pre-Trained keyPointsRCNN"
   ]
  },
  {
   "cell_type": "code",
   "execution_count": 3,
   "id": "0470ea82",
   "metadata": {},
   "outputs": [
    {
     "name": "stderr",
     "output_type": "stream",
     "text": [
      "Matplotlib created a temporary config/cache directory at /tmp/matplotlib-fjxiq0ce because the default path (/home/jetbot/.cache/matplotlib) is not a writable directory; it is highly recommended to set the MPLCONFIGDIR environment variable to a writable directory, in particular to speed up the import of Matplotlib and to better support multiprocessing.\n",
      "Matplotlib is building the font cache; this may take a moment.\n"
     ]
    },
    {
     "name": "stdout",
     "output_type": "stream",
     "text": [
      "KeyPoints RCNN Successfully Loaded. \n"
     ]
    }
   ],
   "source": [
    "from threading import Thread\n",
    "from torch2trt import TRTModule\n",
    "import trt_pose.models\n",
    "import torch2trt\n",
    "import os\n",
    "import json\n",
    "import trt_pose.coco\n",
    "import trt_pose\n",
    "import torch\n",
    "import time\n",
    "\n",
    "# Topology\n",
    "with open('Files/human_pose.json', 'r') as f:\n",
    "    human_pose = json.load(f)\n",
    "topology = trt_pose.coco.coco_category_to_topology(human_pose)\n",
    "\n",
    "# load Model\n",
    "WIDTH = 224\n",
    "HEIGHT = 224\n",
    "data = torch.zeros((1, 3, HEIGHT, WIDTH)).cuda()\n",
    "model_trt = TRTModule()\n",
    "model_trt.load_state_dict(torch.load(OPTIMIZED_MODEL))\n",
    "print(\"KeyPoints RCNN Successfully Loaded. \")"
   ]
  },
  {
   "cell_type": "markdown",
   "id": "91c2b19c",
   "metadata": {},
   "source": [
    "# Prepare the Camera"
   ]
  },
  {
   "cell_type": "code",
   "execution_count": 4,
   "id": "a0367d4a",
   "metadata": {},
   "outputs": [],
   "source": [
    "import cv2\n",
    "import torchvision.transforms as transforms\n",
    "import PIL.Image\n",
    "import time\n",
    "\n",
    "mean = torch.Tensor([0.485, 0.456, 0.406]).cuda()\n",
    "std = torch.Tensor([0.229, 0.224, 0.225]).cuda()\n",
    "device = torch.device('cuda')\n",
    "\n",
    "def preprocess(image):\n",
    "    global device\n",
    "    device = torch.device('cuda')\n",
    "    image = cv2.cvtColor(image, cv2.COLOR_BGR2RGB)\n",
    "    image = PIL.Image.fromarray(image)\n",
    "    image = transforms.functional.to_tensor(image).to(device)\n",
    "    image.sub_(mean[:, None, None]).div_(std[:, None, None])\n",
    "    return image[None, ...]"
   ]
  },
  {
   "cell_type": "code",
   "execution_count": 5,
   "id": "832b5e32",
   "metadata": {},
   "outputs": [],
   "source": [
    "from jetcam.csi_camera import CSICamera\n",
    "\n",
    "camera = CSICamera(width=WIDTH, height=HEIGHT, capture_fps=15)\n",
    "camera.running = True"
   ]
  },
  {
   "cell_type": "markdown",
   "id": "cb6051b9",
   "metadata": {},
   "source": [
    "# Prepare KeyPoints drawing on Frames"
   ]
  },
  {
   "cell_type": "code",
   "execution_count": 6,
   "id": "70e47121",
   "metadata": {},
   "outputs": [],
   "source": [
    "from trt_pose.draw_objects import DrawObjects\n",
    "from trt_pose.parse_objects import ParseObjects\n",
    "\n",
    "parse_objects = ParseObjects(topology)\n",
    "draw_objects = DrawObjects(topology)"
   ]
  },
  {
   "cell_type": "markdown",
   "id": "3dbd80f7",
   "metadata": {},
   "source": [
    "# Function to obtain keypoints (for drawing & calculating angle)"
   ]
  },
  {
   "cell_type": "code",
   "execution_count": 7,
   "id": "9240571d",
   "metadata": {},
   "outputs": [],
   "source": [
    "def get_keypoints(image, human_pose, topology, object_counts, objects, normalized_peaks):\n",
    "    \"\"\"Get the keypoints from torch data and put into a dictionary where keys are keypoints\n",
    "    and values the x,y coordinates. The coordinates will be interpreted on the image given.\n",
    "\n",
    "    Args:\n",
    "        image: cv2 image\n",
    "        human_pose: json formatted file about the keypoints\n",
    "\n",
    "    Returns:\n",
    "        dictionary: dictionary where keys are keypoints and values are the x,y coordinates\n",
    "    \"\"\"\n",
    "    height = image.shape[0]\n",
    "    width = image.shape[1]\n",
    "    keypoints = {}\n",
    "    K = topology.shape[0]\n",
    "    count = int(object_counts[0])\n",
    "\n",
    "    for i in range(count):\n",
    "        obj = objects[0][i]\n",
    "        C = obj.shape[0]\n",
    "        for j in range(C):\n",
    "            k = int(obj[j])\n",
    "            if k >= 0:\n",
    "                peak = normalized_peaks[0][j][k]\n",
    "                x = round(float(peak[1]) * width)\n",
    "                y = round(float(peak[0]) * height)\n",
    "                keypoints[human_pose[\"keypoints\"][j]] = (x, y)\n",
    "\n",
    "    return keypoints"
   ]
  },
  {
   "cell_type": "markdown",
   "id": "69aea215",
   "metadata": {},
   "source": [
    "# Function to Calculate Angle"
   ]
  },
  {
   "cell_type": "code",
   "execution_count": null,
   "id": "1a810799",
   "metadata": {},
   "outputs": [],
   "source": [
    "def calculate_angle(WIDTH, keypoints, FOV=160):\n",
    "    '''\n",
    "    Arguments:\n",
    "        + Image width\n",
    "        + Dictionary of keypoints\n",
    "        + Field of vision of camera (in degrees). Default = 160 if using CSI camera with fish-eye lens\n",
    "        \n",
    "    Returns:\n",
    "        + Angle at which the object is located from respect to the center    \n",
    "    '''\n",
    "\n",
    "    keys = keypoints.values()\n",
    "    \n",
    "    # if at least 2 points are detected\n",
    "    if len(keys) > 1:  \n",
    "        object_location = int(sum([x for x,y in keys])/len(keys))\n",
    "        angle = int(-FOV*(WIDTH/2 - object_location)/WIDTH)\n",
    "        return [angle], keypoints\n",
    "    \n",
    "    \n",
    "    else:\n",
    "        return [100], keypoints"
   ]
  },
  {
   "cell_type": "markdown",
   "id": "f3e2ac67",
   "metadata": {},
   "source": [
    "# Calculate Stage (optional)"
   ]
  },
  {
   "cell_type": "code",
   "execution_count": null,
   "id": "4994b7ca",
   "metadata": {},
   "outputs": [],
   "source": [
    "def calculate_stage(keypoints):\n",
    "    '''\n",
    "    Estimates the phase based on the skeleton parts detected:\n",
    "    \n",
    "    Phase 1: Knees and ankles are detected.\n",
    "    Phase 2: Skeleton is detected but one of the knees or ankles is missing (obstructed by obstacle).\n",
    "    Phase 3: No skeleton is detected.\n",
    "    \n",
    "    '''\n",
    "    \n",
    "    # If camera detects skeleton\n",
    "    if keypoints:\n",
    "        \n",
    "        leg_parts = [\"left_knee\", \"right_knee\", \"left_ankle\", \"right_ankle\"] \n",
    "        obstructed = [x for x in leg_parts if x not in keypoints.keys()]\n",
    "        \n",
    "        # If legs are obstructed\n",
    "        if obstructed:\n",
    "            return [0,1,0]  # Phase 2\n",
    "        \n",
    "        else:\n",
    "            return [1,0,0]   # Phase 1\n",
    "            \n",
    "    # No skeleton detected\n",
    "    else:\n",
    "        return [0,0,1]   # Phase 3"
   ]
  },
  {
   "cell_type": "markdown",
   "id": "fe15f753",
   "metadata": {},
   "source": [
    "# Thread to print Angle & Stage & Lidar"
   ]
  },
  {
   "cell_type": "code",
   "execution_count": null,
   "id": "d67ea111",
   "metadata": {},
   "outputs": [],
   "source": [
    "from IPython.display import clear_output as cls\n",
    "\n",
    "def print_angle_thread():\n",
    "    \n",
    "    global print_angle_running\n",
    "    global global_angle\n",
    "    print_angle_running = True\n",
    "    global visualize_stage\n",
    "    global visualize_lidar\n",
    "    global angles\n",
    "    global previous_readings\n",
    "    \n",
    "    \n",
    "    while True:\n",
    "        keypoints, image, counts, objects, peaks = execute2({'new': camera.value})\n",
    "        angle, _ = calculate_angle(WIDTH, keypoints, FOV)\n",
    "        \n",
    "        # If there was a large angle difference, update\n",
    "        if global_angle:\n",
    "            if abs(global_angle-angle[0])>4:\n",
    "                global_angle = angle[0]\n",
    "        \n",
    "        # If first time running, define global_angle\n",
    "        else:\n",
    "            global_angle = angle[0]   \n",
    "            \n",
    "        # If you want to print ANGLE, LiDAR & STAGE\n",
    "        if visualize_stage and visualize_lidar:\n",
    "            stage = calculate_stage(keypoints)\n",
    "            previous_readings = read_lidar_wrapper(angles, previous_readings)\n",
    "            \n",
    "            out.value = f\"<pref><font color='black'><span style='background-color:#A9CDF8'>  1. Angle:</span><font color='blue'> {global_angle}<br>\\\n",
    "                                <font color='black'><span style='background-color:#E1A3A3'>  2. Stage:</span><font color='red'> {stage}<br>\\\n",
    "                                <font color='black'><span style='background-color:#CFBBE8'>  3. LiDAR:</span><font color='purple'> {previous_readings}</pref>\"\n",
    "            \n",
    "        # If you want to print ANGLE & STAGE\n",
    "        elif visualize_stage and not visualize_lidar:\n",
    "            stage = calculate_stage(keypoints)\n",
    "            out.value = f\"<pref>Angle: {global_angle}\\nStage: {stage}</pref>\"\n",
    "        \n",
    "        # If you want to print ANGLE & LIDAR\n",
    "        elif visualize_lidar and not visualize_stage:\n",
    "            previous_readings = read_lidar_wrapper(angles, previous_readings)\n",
    "            out.value = f\"<pref>Angle: {global_angle}\\nLiDAR: {previous_readings}</pref>\"\n",
    "            \n",
    "        # IF you want to ONLY print ANGLE\n",
    "        else:\n",
    "            out.value = f\"<pref>Angle: {global_angle}</pref>\"\n"
   ]
  },
  {
   "cell_type": "markdown",
   "id": "5c3fa824",
   "metadata": {},
   "source": [
    "# Define Execute (For Visualization)"
   ]
  },
  {
   "cell_type": "code",
   "execution_count": null,
   "id": "597eff8e-d1ed-41cd-9211-9dd8f3fdb5ea",
   "metadata": {},
   "outputs": [],
   "source": [
    "def execute(change):\n",
    "    \n",
    "    global image\n",
    "    global thread2\n",
    "    global keypoints\n",
    "\n",
    "    image = change['new']\n",
    "    data = preprocess(image)\n",
    "    cmap, paf = model_trt(data)\n",
    "    cmap, paf = cmap.detach().cpu(), paf.detach().cpu()\n",
    "    counts, objects, peaks = parse_objects(cmap, paf)#, cmap_threshold=0.15, link_threshold=0.15)\n",
    "    keypoints = get_keypoints(image, human_pose, topology, counts, objects, peaks)\n",
    "\n",
    "    if print_angle_running == False:\n",
    "        thread2 = Thread(target = print_angle_thread)\n",
    "        thread2.daemon = True\n",
    "        thread2.start()\n",
    "        \n",
    "    draw_objects(image, counts, objects, peaks)\n",
    "    image_w.value = bgr8_to_jpeg(image[:, ::-1, :])"
   ]
  },
  {
   "cell_type": "markdown",
   "id": "81646301",
   "metadata": {},
   "source": [
    "# Define Execute (Used for angle calculation)"
   ]
  },
  {
   "cell_type": "code",
   "execution_count": null,
   "id": "77ee310c",
   "metadata": {},
   "outputs": [],
   "source": [
    "def execute2(change, visualize=True):\n",
    "    image = change['new']\n",
    "    data = preprocess(image)\n",
    "    cmap, paf = model_trt(data)\n",
    "    cmap, paf = cmap.detach().cpu(), paf.detach().cpu()\n",
    "    counts, objects, peaks = parse_objects(cmap, paf)#, cmap_threshold=0.15, link_threshold=0.15)\n",
    "    keypoints = get_keypoints(image, human_pose, topology, counts, objects, peaks)\n",
    "\n",
    "    return keypoints, image, counts, objects, peaks"
   ]
  },
  {
   "cell_type": "markdown",
   "id": "061201e0",
   "metadata": {},
   "source": [
    "###### 2 Different execute functions are defined because if only one is used and the variables are made global to be shared by both threads, the delay goes from 2 seconds to 20~30 seconds "
   ]
  },
  {
   "cell_type": "code",
   "execution_count": null,
   "id": "770711c2",
   "metadata": {},
   "outputs": [],
   "source": [
    "print_angle_running = False  # Thread Lock (prevents from crashes)\n",
    "global global_angle\n",
    "global_angle = False"
   ]
  },
  {
   "cell_type": "markdown",
   "id": "c0a304fd",
   "metadata": {},
   "source": [
    "# Run Everything"
   ]
  },
  {
   "cell_type": "code",
   "execution_count": null,
   "id": "c2dcfaef",
   "metadata": {},
   "outputs": [],
   "source": [
    "import ipywidgets\n",
    "from IPython.display import display\n",
    "from jetcam.utils import bgr8_to_jpeg"
   ]
  },
  {
   "cell_type": "markdown",
   "id": "80d75f9d",
   "metadata": {},
   "source": [
    "#### Uncomment Below if you want to run this independently"
   ]
  },
  {
   "cell_type": "code",
   "execution_count": null,
   "id": "cdc718c2",
   "metadata": {},
   "outputs": [],
   "source": [
    "# image_w = ipywidgets.Image(format='jpeg', width=WIDTH, height=HEIGHT)\n",
    "# display(image_w)"
   ]
  },
  {
   "cell_type": "code",
   "execution_count": null,
   "id": "4934539d",
   "metadata": {},
   "outputs": [],
   "source": [
    "# execute({'new': camera.value})\n",
    "# camera.observe(execute, names='value')"
   ]
  }
 ],
 "metadata": {
  "kernelspec": {
   "display_name": "Python 3",
   "language": "python",
   "name": "python3"
  },
  "language_info": {
   "codemirror_mode": {
    "name": "ipython",
    "version": 3
   },
   "file_extension": ".py",
   "mimetype": "text/x-python",
   "name": "python",
   "nbconvert_exporter": "python",
   "pygments_lexer": "ipython3",
   "version": "3.6.9"
  }
 },
 "nbformat": 4,
 "nbformat_minor": 5
}
