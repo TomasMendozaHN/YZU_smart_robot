{
 "cells": [
  {
   "cell_type": "code",
   "execution_count": 1,
   "id": "1fb2d878-e7d8-4343-b605-7b8859b28f9d",
   "metadata": {},
   "outputs": [],
   "source": [
    "from jetbot import Robot\n",
    "robot = Robot()\n",
    "robot.stop()"
   ]
  },
  {
   "cell_type": "code",
   "execution_count": 2,
   "id": "a041f129-eefb-40a8-b22e-c3f3e25127bf",
   "metadata": {},
   "outputs": [
    {
     "name": "stderr",
     "output_type": "stream",
     "text": [
      "Matplotlib created a temporary config/cache directory at /tmp/matplotlib-5_r5rike because the default path (/home/jetbot/.cache/matplotlib) is not a writable directory; it is highly recommended to set the MPLCONFIGDIR environment variable to a writable directory, in particular to speed up the import of Matplotlib and to better support multiprocessing.\n",
      "Matplotlib is building the font cache; this may take a moment.\n"
     ]
    },
    {
     "name": "stdout",
     "output_type": "stream",
     "text": [
      "KeyPoints RCNN Successfully Loaded. \n"
     ]
    }
   ],
   "source": [
    "%run DEBUGGING_Angle.ipynb\n",
    "%run DEBUGGING_Lidar.ipynb\n",
    "%run Scripts/Env_Class.ipynb"
   ]
  },
  {
   "cell_type": "markdown",
   "id": "f6954286-7cb6-4cfe-944f-1751e8b7aac5",
   "metadata": {},
   "source": [
    "# Variables"
   ]
  },
  {
   "cell_type": "code",
   "execution_count": 3,
   "id": "19aa839c-3753-4ca7-aa33-03473d5d6f9c",
   "metadata": {},
   "outputs": [
    {
     "data": {
      "text/plain": [
       "SeparateActorCritic(\n",
       "  (network_body): NetworkBody(\n",
       "    (visual_processors): ModuleList()\n",
       "    (vector_processors): ModuleList(\n",
       "      (0): VectorInput(\n",
       "        (normalizer): Normalizer()\n",
       "      )\n",
       "    )\n",
       "    (linear_encoder): LinearEncoder(\n",
       "      (seq_layers): Sequential(\n",
       "        (0): Linear(in_features=22, out_features=512, bias=True)\n",
       "        (1): Swish()\n",
       "        (2): Linear(in_features=512, out_features=512, bias=True)\n",
       "        (3): Swish()\n",
       "      )\n",
       "    )\n",
       "  )\n",
       "  (distribution): GaussianDistribution(\n",
       "    (mu): Linear(in_features=512, out_features=2, bias=True)\n",
       "  )\n",
       "  (critic): ValueNetwork(\n",
       "    (network_body): NetworkBody(\n",
       "      (visual_processors): ModuleList()\n",
       "      (vector_processors): ModuleList(\n",
       "        (0): VectorInput(\n",
       "          (normalizer): Normalizer()\n",
       "        )\n",
       "      )\n",
       "      (linear_encoder): LinearEncoder(\n",
       "        (seq_layers): Sequential(\n",
       "          (0): Linear(in_features=22, out_features=512, bias=True)\n",
       "          (1): Swish()\n",
       "          (2): Linear(in_features=512, out_features=512, bias=True)\n",
       "          (3): Swish()\n",
       "        )\n",
       "      )\n",
       "    )\n",
       "    (value_heads): ValueHeads(\n",
       "      (value_heads): ModuleDict(\n",
       "        (extrinsic): Linear(in_features=512, out_features=1, bias=True)\n",
       "      )\n",
       "    )\n",
       "  )\n",
       ")"
      ]
     },
     "execution_count": 3,
     "metadata": {},
     "output_type": "execute_result"
    }
   ],
   "source": [
    "# Define what directions you want LiDAR to measure\n",
    "angles = [180, 200, 220, 240, 260, 280, 300, 320, 340, 0, 20, 40, 60, 80, 100, 120, 140, 160]\n",
    "\n",
    "# Initialize all sensor readings to 0\n",
    "previous_readings = {x:0 for x in angles} \n",
    "\n",
    "# Define Model\n",
    "UNITY_MODEL = \"Files/robot.pth\"\n",
    "model = torch.load(UNITY_MODEL)\n",
    "model.eval()"
   ]
  },
  {
   "cell_type": "markdown",
   "id": "9393001d-0f49-43f5-bdb5-8e1451ffb58b",
   "metadata": {},
   "source": [
    "# Thread to control car & print information"
   ]
  },
  {
   "cell_type": "code",
   "execution_count": 4,
   "id": "7afb942d-6694-49df-b6be-750c8173edcf",
   "metadata": {},
   "outputs": [],
   "source": [
    "def print_angle_thread():\n",
    "    \n",
    "    global print_angle_running\n",
    "    global global_angle\n",
    "    print_angle_running = True\n",
    "    global angles\n",
    "    global previous_readings\n",
    "    \n",
    "    while True:\n",
    "        \n",
    "        if len(keypoints.values()) > 1:\n",
    "            parts = [\"left_shoulder\", \"right_shoulder\"]\n",
    "#             parts = [\"left_ankle\", \"right_ankle\"]\n",
    "            empty = [x for x in parts if x in keypoints.keys()]\n",
    "            \n",
    "            #stage 1 \n",
    "            if len(empty) > 1: \n",
    "                stage = [1,0,0]\n",
    "                angle, _ = calculate_angle(WIDTH, keypoints, FOV)\n",
    "                \n",
    "                # If we already assigned value to global angle\n",
    "                if global_angle:\n",
    "                    \n",
    "                    # If the difference in angle is too large, update\n",
    "                    if abs(global_angle-angle[0])>4:\n",
    "                        global_angle = angle[0]\n",
    "                        \n",
    "                    # The angle is large enough to update\n",
    "                    else:\n",
    "                        global_angle = angle[0]\n",
    "                \n",
    "                # If first time running the while loop, assign angle to global variable\n",
    "                else:\n",
    "                    global_angle = angle[0]\n",
    "                    \n",
    "                        \n",
    "            else: #stage 2\n",
    "                stage = [0,1,0]\n",
    "                global_angle = 0\n",
    "                \n",
    "        else: #stage 3\n",
    "            stage = [0,0,1]\n",
    "            global_angle = 0\n",
    "            \n",
    "        \n",
    "        previous_readings = read_lidar_wrapper(angles, previous_readings)   # Read Lidar\n",
    "            \n",
    "        # Printing Information       \n",
    "        observation = stage + [global_angle] + list(previous_readings.values())                # Join stage, angle and lidar readings\n",
    "        observation2 = observation[0:4] + [x if x < 4000 else 4000 for x in observation[4:]]   # Clip lidar readings to 4m\n",
    "        observation2 = observation2[0:4] + [round(x/4000,3) for x in observation2[4:]]         # Normalize lidar readings\n",
    "        \n",
    "        action, reward = env.sample_action(observation2)\n",
    "        \n",
    "        \n",
    "        if stage == [1,0,0] and abs(global_angle)<=40:\n",
    "            action[0] = 0\n",
    "            action[1] = 0\n",
    "            \n",
    "        elif stage == [1,0,0] and abs(global_angle)>40:\n",
    "            action[0] = 0\n",
    "            \n",
    "        action_move, action_turn = action.cpu().detach().numpy()\n",
    "       \n",
    "        env.step(action)\n",
    "\n",
    "        lidar_info_print.value = f\"<pref><font color='black'><span style='background-color:#A9CDF8'>*    Observation    *</span><font color='blue'><br>Stage: {observation2[0:3]}<br>Angle: {observation2[3]}<br>Lidar 0°: {observation2[13]}<br>Lidar 20°: {observation2[14]}<br>Lidar 40°: {observation2[15]}<br>Lidar 60°: {observation2[16]}<br>Lidar 80°: {observation2[17]}<br>Lidar 100°: {observation2[18]}<br>Lidar 120°: {observation2[19]}<br>Lidar 140°: {observation2[20]}<br>Lidar 160°: {observation2[21]}<br>Lidar 180°: {observation2[4]}<br>Lidar 200°: {observation2[5]}<br>Lidar 220°: {observation2[6]}<br>Lidar 240°: {observation2[7]}<br>Lidar 260°: {observation2[8]}<br>Lidar 280°: {observation2[9]}<br>Lidar 300°: {observation2[10]}<br>Lidar 320°: {observation2[11]}<br>Lidar 340°: {observation2[12]}</pref>\"\n",
    "        \n",
    "        action_reward_info.value = f\"<pref><font color='black'><span style='background-color:#E1A3A3'>*    Action Taken   *</span><font color='red'><br>Move: {round(float(action_move),3)}<br>Rotate: {round(float(action_turn),3)}<br>\\\n",
    "                                           <font color='black'><span style='background-color:#CFBBE8'>*       Reward      *</span><font color='purple'><br>{round(float(reward),3)}</pref>\"\n"
   ]
  },
  {
   "cell_type": "markdown",
   "id": "fc828e0b-ba00-430d-9e02-d29b149f924b",
   "metadata": {},
   "source": [
    "# Load Model and prepare environment"
   ]
  },
  {
   "cell_type": "code",
   "execution_count": 5,
   "id": "7b007001-2e6e-42ab-8d41-8c1cef886300",
   "metadata": {},
   "outputs": [],
   "source": [
    "env = Environment(model, angles, robot)"
   ]
  },
  {
   "cell_type": "markdown",
   "id": "f589a0e7-3ae9-49f2-9d30-9f71103f8b7f",
   "metadata": {},
   "source": [
    "# Control threads"
   ]
  },
  {
   "cell_type": "code",
   "execution_count": 6,
   "id": "f3326766-69d7-40bd-8fe1-92ff8e110b68",
   "metadata": {},
   "outputs": [
    {
     "data": {
      "application/vnd.jupyter.widget-view+json": {
       "model_id": "b3c9f986031146f29bc86985ef9e0d7d",
       "version_major": 2,
       "version_minor": 0
      },
      "text/plain": [
       "HBox(children=(HTML(value=''), Image(value=b'', format='jpeg', height='224', width='500'), HTML(value='')), la…"
      ]
     },
     "metadata": {},
     "output_type": "display_data"
    }
   ],
   "source": [
    "''' Image Widget'''\n",
    "# Image \n",
    "image_w = ipywidgets.Image(format='jpeg', width=500, height=HEIGHT)\n",
    "\n",
    "global lidar_info_print\n",
    "lidar_info_print = widgets.HTML()\n",
    "\n",
    "global action_reward_info\n",
    "action_reward_info = widgets.HTML()\n",
    "\n",
    "''' Join all widgets into a single HBox'''\n",
    "# Visualize the whole thing (sliders + buttons)\n",
    "final = widgets.HBox([lidar_info_print, image_w, action_reward_info], layout=widgets.Layout(width='100%', align_self='center'))\n",
    "display(final)\n",
    "\n",
    "execute({'new': camera.value})\n",
    "camera.observe(execute, names='value')"
   ]
  }
 ],
 "metadata": {
  "kernelspec": {
   "display_name": "Python 3",
   "language": "python",
   "name": "python3"
  },
  "language_info": {
   "codemirror_mode": {
    "name": "ipython",
    "version": 3
   },
   "file_extension": ".py",
   "mimetype": "text/x-python",
   "name": "python",
   "nbconvert_exporter": "python",
   "pygments_lexer": "ipython3",
   "version": "3.6.9"
  }
 },
 "nbformat": 4,
 "nbformat_minor": 5
}
