{
 "cells": [
  {
   "cell_type": "code",
   "execution_count": null,
   "id": "bound-serum",
   "metadata": {},
   "outputs": [],
   "source": [
    "run Keypoints_RCNN.ipynb"
   ]
  },
  {
   "cell_type": "code",
   "execution_count": null,
   "id": "optical-subject",
   "metadata": {},
   "outputs": [],
   "source": [
    "run 2_Calculating_Angles.ipynb"
   ]
  },
  {
   "cell_type": "code",
   "execution_count": null,
   "id": "acute-password",
   "metadata": {},
   "outputs": [],
   "source": [
    "run 3_Reading_RPLidar.ipynb"
   ]
  },
  {
   "cell_type": "code",
   "execution_count": null,
   "id": "laden-treasury",
   "metadata": {},
   "outputs": [],
   "source": [
    "run 4_Stage_Estimation.ipynb"
   ]
  },
  {
   "cell_type": "markdown",
   "id": "northern-benchmark",
   "metadata": {},
   "source": [
    "# Define Environment"
   ]
  },
  {
   "cell_type": "code",
   "execution_count": null,
   "id": "secure-samba",
   "metadata": {},
   "outputs": [],
   "source": [
    "class Environment():\n",
    "    \n",
    "    '''\n",
    "    This wrapper works as an RL-Environment for the Jetson Nano.\n",
    "    Arguments are: \n",
    "        model  -> pytorch model trained in Unity.\n",
    "        angles -> list of angles required to measure\n",
    "        FOV    -> How wide the camera lens is. Default = 160\n",
    "    '''\n",
    "    \n",
    "    def __init__(self, model, angles, robot, FOV=160):\n",
    "        self.previous_readings = {x:0 for x in angles} \n",
    "        self.angles = angles\n",
    "        self.model = model\n",
    "        self.FOV = FOV\n",
    "        self.robot = robot\n",
    "        \n",
    "        \n",
    "    def calculate_angle_and_phase(self):\n",
    "        keypoints, image, counts, objects, peaks = execute({'new': camera.value})\n",
    "        phase = self.calculate_phase(keypoints)\n",
    "        if phase[0]==1:\n",
    "            angle = calculate_angle(WIDTH, keypoints, self.FOV)\n",
    "        else:\n",
    "            angle=[0]  # Stage 2 & 3 don't need angle (see CSharp script)\n",
    "        \n",
    "        return phase, angle\n",
    "\n",
    "    \n",
    "    def calculate_phase(self, keypoints):\n",
    "        phase = estimating_phase(keypoints)\n",
    "        return phase\n",
    "    \n",
    "    \n",
    "    def read_lidar(self):\n",
    "        self.previous_readings = read_lidar_wrapper(self.angles,self.previous_readings)\n",
    "        \n",
    "        #normalize lidar readings (max range: 12m) if not norm yet\n",
    "        self.previous_readings = {k:v/4000 if v>1 else v for k,v in zip(self.previous_readings.keys(), self.previous_readings.values())}\n",
    "        self.previous_readings = {k:1 if v>1 or v==0 else v for k,v in zip(self.previous_readings.keys(), self.previous_readings.values())}\n",
    "    \n",
    "    def observe(self):\n",
    "        self.read_lidar()\n",
    "        phase, angle = self.calculate_angle_and_phase()\n",
    "        \n",
    "        if isinstance(angle, dict):\n",
    "            angles = list(angle.values())\n",
    "        \n",
    "        else: angles = [0]\n",
    "        \n",
    "        observation = phase + angle + list(self.previous_readings.values())\n",
    "        return observation\n",
    "    \n",
    "    \n",
    "    def sample_action(self, observation):\n",
    "        observation = torch.Tensor(observation).cuda()\n",
    "        hidden,_ = self.model.network_body(vis_inputs=[0],vec_inputs=[observation])\n",
    "        distribution = self.model.distribution(hidden)\n",
    "        action = distribution.sample()\n",
    "        return action\n",
    "    \n",
    "    \n",
    "    def step(self,action):\n",
    "        action = action.cpu().detach().numpy()[0]\n",
    "        \n",
    "        speed_move, speed_turn = float(abs(action[0])), float(abs(action[1]))\n",
    "        \n",
    "        # backward\n",
    "        if action[0] < 0:\n",
    "            robot.backward(speed_move)\n",
    "            time.sleep(0.5)\n",
    "            robot.stop()\n",
    "            \n",
    "        # forward\n",
    "        else:\n",
    "            robot.forward(speed_move)\n",
    "            time.sleep(0.5)\n",
    "            robot.stop()\n",
    "            \n",
    "        time.sleep(0.2)\n",
    "            \n",
    "        # turn left\n",
    "        if action[1] < 0:\n",
    "            robot.left(speed_turn)\n",
    "            time.sleep(0.3)\n",
    "            robot.stop()\n",
    "            \n",
    "        # turn right\n",
    "        else:\n",
    "            robot.right(speed_turn)\n",
    "            time.sleep(0.3)\n",
    "            robot.stop()\n"
   ]
  },
  {
   "cell_type": "markdown",
   "id": "fewer-muscle",
   "metadata": {},
   "source": [
    "# Load model"
   ]
  },
  {
   "cell_type": "code",
   "execution_count": null,
   "id": "exciting-needle",
   "metadata": {},
   "outputs": [],
   "source": [
    "# Input your model name which must be inside the root folder\n",
    "model = torch.load(\"George-1-128.pth\")\n",
    "model.eval()"
   ]
  },
  {
   "cell_type": "markdown",
   "id": "conservative-slide",
   "metadata": {},
   "source": [
    "# Define the angles to read using LiDAR"
   ]
  },
  {
   "cell_type": "code",
   "execution_count": null,
   "id": "stone-livestock",
   "metadata": {},
   "outputs": [],
   "source": [
    "angles = [x for x in range(0,360,20)]"
   ]
  },
  {
   "cell_type": "markdown",
   "id": "minor-running",
   "metadata": {},
   "source": [
    "# Initialize the robot"
   ]
  },
  {
   "cell_type": "code",
   "execution_count": null,
   "id": "intellectual-greeting",
   "metadata": {},
   "outputs": [],
   "source": [
    "robot = Robot()"
   ]
  },
  {
   "cell_type": "code",
   "execution_count": null,
   "id": "studied-mount",
   "metadata": {},
   "outputs": [],
   "source": [
    "env = Environment(model, angles, robot)"
   ]
  },
  {
   "cell_type": "code",
   "execution_count": null,
   "id": "chief-pierre",
   "metadata": {},
   "outputs": [],
   "source": [
    "observation = env.observe()\n",
    "print(observation)\n",
    "print(len(observation))"
   ]
  },
  {
   "cell_type": "code",
   "execution_count": null,
   "id": "premium-camping",
   "metadata": {},
   "outputs": [],
   "source": [
    "action = env.sample_action(observation)\n",
    "action"
   ]
  },
  {
   "cell_type": "code",
   "execution_count": null,
   "id": "lonely-alaska",
   "metadata": {},
   "outputs": [],
   "source": [
    "env.step(action)"
   ]
  }
 ],
 "metadata": {
  "kernelspec": {
   "display_name": "Python 3",
   "language": "python",
   "name": "python3"
  },
  "language_info": {
   "codemirror_mode": {
    "name": "ipython",
    "version": 3
   },
   "file_extension": ".py",
   "mimetype": "text/x-python",
   "name": "python",
   "nbconvert_exporter": "python",
   "pygments_lexer": "ipython3",
   "version": "3.6.9"
  }
 },
 "nbformat": 4,
 "nbformat_minor": 5
}
